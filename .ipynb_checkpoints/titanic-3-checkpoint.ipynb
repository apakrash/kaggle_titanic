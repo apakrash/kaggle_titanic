{
 "cells": [
  {
   "cell_type": "markdown",
   "metadata": {
    "collapsed": true
   },
   "source": [
    "# The Titanic Problem"
   ]
  },
  {
   "cell_type": "markdown",
   "metadata": {},
   "source": [
    "## loading all libraries"
   ]
  },
  {
   "cell_type": "code",
   "execution_count": 3,
   "metadata": {
    "collapsed": true
   },
   "outputs": [],
   "source": [
    "from sklearn.linear_model import LogisticRegression\n",
    "from sklearn.ensemble import RandomForestClassifier\n",
    "from sklearn.model_selection import GridSearchCV\n",
    "\n",
    "import pandas as pd\n",
    "import numpy as np\n",
    "import matplotlib.pyplot as plt\n",
    "plt.style.use('ggplot')\n",
    "%matplotlib notebook\n",
    "\n",
    "import seaborn as sns\n",
    "sns.set()\n",
    "\n"
   ]
  },
  {
   "cell_type": "code",
   "execution_count": 4,
   "metadata": {
    "collapsed": true
   },
   "outputs": [],
   "source": [
    "#loading data\n",
    "\n",
    "train=pd.read_csv('train.csv')\n",
    "test=pd.read_csv('test.csv')"
   ]
  },
  {
   "cell_type": "code",
   "execution_count": 5,
   "metadata": {},
   "outputs": [
    {
     "data": {
      "text/html": [
       "<div>\n",
       "<style>\n",
       "    .dataframe thead tr:only-child th {\n",
       "        text-align: right;\n",
       "    }\n",
       "\n",
       "    .dataframe thead th {\n",
       "        text-align: left;\n",
       "    }\n",
       "\n",
       "    .dataframe tbody tr th {\n",
       "        vertical-align: top;\n",
       "    }\n",
       "</style>\n",
       "<table border=\"1\" class=\"dataframe\">\n",
       "  <thead>\n",
       "    <tr style=\"text-align: right;\">\n",
       "      <th></th>\n",
       "      <th>PassengerId</th>\n",
       "      <th>Survived</th>\n",
       "      <th>Pclass</th>\n",
       "      <th>Name</th>\n",
       "      <th>Sex</th>\n",
       "      <th>Age</th>\n",
       "      <th>SibSp</th>\n",
       "      <th>Parch</th>\n",
       "      <th>Ticket</th>\n",
       "      <th>Fare</th>\n",
       "      <th>Cabin</th>\n",
       "      <th>Embarked</th>\n",
       "    </tr>\n",
       "  </thead>\n",
       "  <tbody>\n",
       "    <tr>\n",
       "      <th>0</th>\n",
       "      <td>1</td>\n",
       "      <td>0</td>\n",
       "      <td>3</td>\n",
       "      <td>Braund, Mr. Owen Harris</td>\n",
       "      <td>male</td>\n",
       "      <td>22.0</td>\n",
       "      <td>1</td>\n",
       "      <td>0</td>\n",
       "      <td>A/5 21171</td>\n",
       "      <td>7.2500</td>\n",
       "      <td>NaN</td>\n",
       "      <td>S</td>\n",
       "    </tr>\n",
       "    <tr>\n",
       "      <th>1</th>\n",
       "      <td>2</td>\n",
       "      <td>1</td>\n",
       "      <td>1</td>\n",
       "      <td>Cumings, Mrs. John Bradley (Florence Briggs Th...</td>\n",
       "      <td>female</td>\n",
       "      <td>38.0</td>\n",
       "      <td>1</td>\n",
       "      <td>0</td>\n",
       "      <td>PC 17599</td>\n",
       "      <td>71.2833</td>\n",
       "      <td>C85</td>\n",
       "      <td>C</td>\n",
       "    </tr>\n",
       "    <tr>\n",
       "      <th>2</th>\n",
       "      <td>3</td>\n",
       "      <td>1</td>\n",
       "      <td>3</td>\n",
       "      <td>Heikkinen, Miss. Laina</td>\n",
       "      <td>female</td>\n",
       "      <td>26.0</td>\n",
       "      <td>0</td>\n",
       "      <td>0</td>\n",
       "      <td>STON/O2. 3101282</td>\n",
       "      <td>7.9250</td>\n",
       "      <td>NaN</td>\n",
       "      <td>S</td>\n",
       "    </tr>\n",
       "    <tr>\n",
       "      <th>3</th>\n",
       "      <td>4</td>\n",
       "      <td>1</td>\n",
       "      <td>1</td>\n",
       "      <td>Futrelle, Mrs. Jacques Heath (Lily May Peel)</td>\n",
       "      <td>female</td>\n",
       "      <td>35.0</td>\n",
       "      <td>1</td>\n",
       "      <td>0</td>\n",
       "      <td>113803</td>\n",
       "      <td>53.1000</td>\n",
       "      <td>C123</td>\n",
       "      <td>S</td>\n",
       "    </tr>\n",
       "    <tr>\n",
       "      <th>4</th>\n",
       "      <td>5</td>\n",
       "      <td>0</td>\n",
       "      <td>3</td>\n",
       "      <td>Allen, Mr. William Henry</td>\n",
       "      <td>male</td>\n",
       "      <td>35.0</td>\n",
       "      <td>0</td>\n",
       "      <td>0</td>\n",
       "      <td>373450</td>\n",
       "      <td>8.0500</td>\n",
       "      <td>NaN</td>\n",
       "      <td>S</td>\n",
       "    </tr>\n",
       "  </tbody>\n",
       "</table>\n",
       "</div>"
      ],
      "text/plain": [
       "   PassengerId  Survived  Pclass  \\\n",
       "0            1         0       3   \n",
       "1            2         1       1   \n",
       "2            3         1       3   \n",
       "3            4         1       1   \n",
       "4            5         0       3   \n",
       "\n",
       "                                                Name     Sex   Age  SibSp  \\\n",
       "0                            Braund, Mr. Owen Harris    male  22.0      1   \n",
       "1  Cumings, Mrs. John Bradley (Florence Briggs Th...  female  38.0      1   \n",
       "2                             Heikkinen, Miss. Laina  female  26.0      0   \n",
       "3       Futrelle, Mrs. Jacques Heath (Lily May Peel)  female  35.0      1   \n",
       "4                           Allen, Mr. William Henry    male  35.0      0   \n",
       "\n",
       "   Parch            Ticket     Fare Cabin Embarked  \n",
       "0      0         A/5 21171   7.2500   NaN        S  \n",
       "1      0          PC 17599  71.2833   C85        C  \n",
       "2      0  STON/O2. 3101282   7.9250   NaN        S  \n",
       "3      0            113803  53.1000  C123        S  \n",
       "4      0            373450   8.0500   NaN        S  "
      ]
     },
     "execution_count": 5,
     "metadata": {},
     "output_type": "execute_result"
    }
   ],
   "source": [
    "# checking how the training Set looks like\n",
    "\n",
    "train.head()"
   ]
  },
  {
   "cell_type": "code",
   "execution_count": 8,
   "metadata": {
    "collapsed": true
   },
   "outputs": [],
   "source": [
    "# saving the PasserengerId for submission\n",
    "\n",
    "passengerId=test.PassengerId"
   ]
  },
  {
   "cell_type": "code",
   "execution_count": 9,
   "metadata": {
    "collapsed": true
   },
   "outputs": [],
   "source": [
    "# merge train and test, so that the missing spaces can be filled at once.\n",
    "\n",
    "titanic=train.append(test,ignore_index=True)\n",
    "\n",
    "train_idx=len(train)\n",
    "test_idx=len(titanic)-len(test)"
   ]
  },
  {
   "cell_type": "code",
   "execution_count": 10,
   "metadata": {},
   "outputs": [
    {
     "data": {
      "text/html": [
       "<div>\n",
       "<style>\n",
       "    .dataframe thead tr:only-child th {\n",
       "        text-align: right;\n",
       "    }\n",
       "\n",
       "    .dataframe thead th {\n",
       "        text-align: left;\n",
       "    }\n",
       "\n",
       "    .dataframe tbody tr th {\n",
       "        vertical-align: top;\n",
       "    }\n",
       "</style>\n",
       "<table border=\"1\" class=\"dataframe\">\n",
       "  <thead>\n",
       "    <tr style=\"text-align: right;\">\n",
       "      <th></th>\n",
       "      <th>Age</th>\n",
       "      <th>Cabin</th>\n",
       "      <th>Embarked</th>\n",
       "      <th>Fare</th>\n",
       "      <th>Name</th>\n",
       "      <th>Parch</th>\n",
       "      <th>PassengerId</th>\n",
       "      <th>Pclass</th>\n",
       "      <th>Sex</th>\n",
       "      <th>SibSp</th>\n",
       "      <th>Survived</th>\n",
       "      <th>Ticket</th>\n",
       "    </tr>\n",
       "  </thead>\n",
       "  <tbody>\n",
       "    <tr>\n",
       "      <th>0</th>\n",
       "      <td>22.0</td>\n",
       "      <td>NaN</td>\n",
       "      <td>S</td>\n",
       "      <td>7.2500</td>\n",
       "      <td>Braund, Mr. Owen Harris</td>\n",
       "      <td>0</td>\n",
       "      <td>1</td>\n",
       "      <td>3</td>\n",
       "      <td>male</td>\n",
       "      <td>1</td>\n",
       "      <td>0.0</td>\n",
       "      <td>A/5 21171</td>\n",
       "    </tr>\n",
       "    <tr>\n",
       "      <th>1</th>\n",
       "      <td>38.0</td>\n",
       "      <td>C85</td>\n",
       "      <td>C</td>\n",
       "      <td>71.2833</td>\n",
       "      <td>Cumings, Mrs. John Bradley (Florence Briggs Th...</td>\n",
       "      <td>0</td>\n",
       "      <td>2</td>\n",
       "      <td>1</td>\n",
       "      <td>female</td>\n",
       "      <td>1</td>\n",
       "      <td>1.0</td>\n",
       "      <td>PC 17599</td>\n",
       "    </tr>\n",
       "    <tr>\n",
       "      <th>2</th>\n",
       "      <td>26.0</td>\n",
       "      <td>NaN</td>\n",
       "      <td>S</td>\n",
       "      <td>7.9250</td>\n",
       "      <td>Heikkinen, Miss. Laina</td>\n",
       "      <td>0</td>\n",
       "      <td>3</td>\n",
       "      <td>3</td>\n",
       "      <td>female</td>\n",
       "      <td>0</td>\n",
       "      <td>1.0</td>\n",
       "      <td>STON/O2. 3101282</td>\n",
       "    </tr>\n",
       "    <tr>\n",
       "      <th>3</th>\n",
       "      <td>35.0</td>\n",
       "      <td>C123</td>\n",
       "      <td>S</td>\n",
       "      <td>53.1000</td>\n",
       "      <td>Futrelle, Mrs. Jacques Heath (Lily May Peel)</td>\n",
       "      <td>0</td>\n",
       "      <td>4</td>\n",
       "      <td>1</td>\n",
       "      <td>female</td>\n",
       "      <td>1</td>\n",
       "      <td>1.0</td>\n",
       "      <td>113803</td>\n",
       "    </tr>\n",
       "    <tr>\n",
       "      <th>4</th>\n",
       "      <td>35.0</td>\n",
       "      <td>NaN</td>\n",
       "      <td>S</td>\n",
       "      <td>8.0500</td>\n",
       "      <td>Allen, Mr. William Henry</td>\n",
       "      <td>0</td>\n",
       "      <td>5</td>\n",
       "      <td>3</td>\n",
       "      <td>male</td>\n",
       "      <td>0</td>\n",
       "      <td>0.0</td>\n",
       "      <td>373450</td>\n",
       "    </tr>\n",
       "  </tbody>\n",
       "</table>\n",
       "</div>"
      ],
      "text/plain": [
       "    Age Cabin Embarked     Fare  \\\n",
       "0  22.0   NaN        S   7.2500   \n",
       "1  38.0   C85        C  71.2833   \n",
       "2  26.0   NaN        S   7.9250   \n",
       "3  35.0  C123        S  53.1000   \n",
       "4  35.0   NaN        S   8.0500   \n",
       "\n",
       "                                                Name  Parch  PassengerId  \\\n",
       "0                            Braund, Mr. Owen Harris      0            1   \n",
       "1  Cumings, Mrs. John Bradley (Florence Briggs Th...      0            2   \n",
       "2                             Heikkinen, Miss. Laina      0            3   \n",
       "3       Futrelle, Mrs. Jacques Heath (Lily May Peel)      0            4   \n",
       "4                           Allen, Mr. William Henry      0            5   \n",
       "\n",
       "   Pclass     Sex  SibSp  Survived            Ticket  \n",
       "0       3    male      1       0.0         A/5 21171  \n",
       "1       1  female      1       1.0          PC 17599  \n",
       "2       3  female      0       1.0  STON/O2. 3101282  \n",
       "3       1  female      1       1.0            113803  \n",
       "4       3    male      0       0.0            373450  "
      ]
     },
     "execution_count": 10,
     "metadata": {},
     "output_type": "execute_result"
    }
   ],
   "source": [
    "titanic.head()"
   ]
  },
  {
   "cell_type": "code",
   "execution_count": 11,
   "metadata": {},
   "outputs": [
    {
     "name": "stdout",
     "output_type": "stream",
     "text": [
      "<class 'pandas.core.frame.DataFrame'>\n",
      "RangeIndex: 1309 entries, 0 to 1308\n",
      "Data columns (total 12 columns):\n",
      "Age            1046 non-null float64\n",
      "Cabin          295 non-null object\n",
      "Embarked       1307 non-null object\n",
      "Fare           1308 non-null float64\n",
      "Name           1309 non-null object\n",
      "Parch          1309 non-null int64\n",
      "PassengerId    1309 non-null int64\n",
      "Pclass         1309 non-null int64\n",
      "Sex            1309 non-null object\n",
      "SibSp          1309 non-null int64\n",
      "Survived       891 non-null float64\n",
      "Ticket         1309 non-null object\n",
      "dtypes: float64(3), int64(4), object(5)\n",
      "memory usage: 122.8+ KB\n"
     ]
    }
   ],
   "source": [
    "titanic.info()"
   ]
  },
  {
   "cell_type": "code",
   "execution_count": 13,
   "metadata": {},
   "outputs": [
    {
     "name": "stdout",
     "output_type": "stream",
     "text": [
      "Age             263\n",
      "Cabin          1014\n",
      "Embarked          2\n",
      "Fare              1\n",
      "Name              0\n",
      "Parch             0\n",
      "PassengerId       0\n",
      "Pclass            0\n",
      "Sex               0\n",
      "SibSp             0\n",
      "Survived        418\n",
      "Ticket            0\n",
      "dtype: int64\n"
     ]
    }
   ],
   "source": [
    "#To check if any column has null\n",
    "print(titanic.isnull().sum())\n",
    "#To get those columns:\n",
    "#print(titanic[titanic.isnull().T.any().T])\n"
   ]
  },
  {
   "cell_type": "code",
   "execution_count": 14,
   "metadata": {
    "collapsed": true
   },
   "outputs": [],
   "source": [
    "# since this will not be used for any training.\n",
    "titanic.drop('PassengerId',axis=1,inplace=True)"
   ]
  },
  {
   "cell_type": "code",
   "execution_count": 15,
   "metadata": {},
   "outputs": [
    {
     "data": {
      "text/plain": [
       "Index(['Age', 'Cabin', 'Embarked', 'Fare', 'Name', 'Parch', 'Pclass', 'Sex',\n",
       "       'SibSp', 'Survived', 'Ticket'],\n",
       "      dtype='object')"
      ]
     },
     "execution_count": 15,
     "metadata": {},
     "output_type": "execute_result"
    }
   ],
   "source": [
    "# to verify that PassengerId is gone, sorry old habit :)\n",
    "titanic.keys()"
   ]
  },
  {
   "cell_type": "code",
   "execution_count": 16,
   "metadata": {},
   "outputs": [
    {
     "data": {
      "text/html": [
       "<div>\n",
       "<style>\n",
       "    .dataframe thead tr:only-child th {\n",
       "        text-align: right;\n",
       "    }\n",
       "\n",
       "    .dataframe thead th {\n",
       "        text-align: left;\n",
       "    }\n",
       "\n",
       "    .dataframe tbody tr th {\n",
       "        vertical-align: top;\n",
       "    }\n",
       "</style>\n",
       "<table border=\"1\" class=\"dataframe\">\n",
       "  <thead>\n",
       "    <tr style=\"text-align: right;\">\n",
       "      <th></th>\n",
       "      <th>Age</th>\n",
       "      <th>Cabin</th>\n",
       "      <th>Embarked</th>\n",
       "      <th>Fare</th>\n",
       "      <th>Name</th>\n",
       "      <th>Parch</th>\n",
       "      <th>Pclass</th>\n",
       "      <th>Sex</th>\n",
       "      <th>SibSp</th>\n",
       "      <th>Survived</th>\n",
       "      <th>Ticket</th>\n",
       "      <th>Title</th>\n",
       "    </tr>\n",
       "  </thead>\n",
       "  <tbody>\n",
       "    <tr>\n",
       "      <th>0</th>\n",
       "      <td>22.0</td>\n",
       "      <td>NaN</td>\n",
       "      <td>S</td>\n",
       "      <td>7.2500</td>\n",
       "      <td>Braund, Mr. Owen Harris</td>\n",
       "      <td>0</td>\n",
       "      <td>3</td>\n",
       "      <td>male</td>\n",
       "      <td>1</td>\n",
       "      <td>0.0</td>\n",
       "      <td>A/5 21171</td>\n",
       "      <td>Mr</td>\n",
       "    </tr>\n",
       "    <tr>\n",
       "      <th>1</th>\n",
       "      <td>38.0</td>\n",
       "      <td>C85</td>\n",
       "      <td>C</td>\n",
       "      <td>71.2833</td>\n",
       "      <td>Cumings, Mrs. John Bradley (Florence Briggs Th...</td>\n",
       "      <td>0</td>\n",
       "      <td>1</td>\n",
       "      <td>female</td>\n",
       "      <td>1</td>\n",
       "      <td>1.0</td>\n",
       "      <td>PC 17599</td>\n",
       "      <td>Mrs</td>\n",
       "    </tr>\n",
       "    <tr>\n",
       "      <th>2</th>\n",
       "      <td>26.0</td>\n",
       "      <td>NaN</td>\n",
       "      <td>S</td>\n",
       "      <td>7.9250</td>\n",
       "      <td>Heikkinen, Miss. Laina</td>\n",
       "      <td>0</td>\n",
       "      <td>3</td>\n",
       "      <td>female</td>\n",
       "      <td>0</td>\n",
       "      <td>1.0</td>\n",
       "      <td>STON/O2. 3101282</td>\n",
       "      <td>Miss</td>\n",
       "    </tr>\n",
       "    <tr>\n",
       "      <th>3</th>\n",
       "      <td>35.0</td>\n",
       "      <td>C123</td>\n",
       "      <td>S</td>\n",
       "      <td>53.1000</td>\n",
       "      <td>Futrelle, Mrs. Jacques Heath (Lily May Peel)</td>\n",
       "      <td>0</td>\n",
       "      <td>1</td>\n",
       "      <td>female</td>\n",
       "      <td>1</td>\n",
       "      <td>1.0</td>\n",
       "      <td>113803</td>\n",
       "      <td>Mrs</td>\n",
       "    </tr>\n",
       "    <tr>\n",
       "      <th>4</th>\n",
       "      <td>35.0</td>\n",
       "      <td>NaN</td>\n",
       "      <td>S</td>\n",
       "      <td>8.0500</td>\n",
       "      <td>Allen, Mr. William Henry</td>\n",
       "      <td>0</td>\n",
       "      <td>3</td>\n",
       "      <td>male</td>\n",
       "      <td>0</td>\n",
       "      <td>0.0</td>\n",
       "      <td>373450</td>\n",
       "      <td>Mr</td>\n",
       "    </tr>\n",
       "  </tbody>\n",
       "</table>\n",
       "</div>"
      ],
      "text/plain": [
       "    Age Cabin Embarked     Fare  \\\n",
       "0  22.0   NaN        S   7.2500   \n",
       "1  38.0   C85        C  71.2833   \n",
       "2  26.0   NaN        S   7.9250   \n",
       "3  35.0  C123        S  53.1000   \n",
       "4  35.0   NaN        S   8.0500   \n",
       "\n",
       "                                                Name  Parch  Pclass     Sex  \\\n",
       "0                            Braund, Mr. Owen Harris      0       3    male   \n",
       "1  Cumings, Mrs. John Bradley (Florence Briggs Th...      0       1  female   \n",
       "2                             Heikkinen, Miss. Laina      0       3  female   \n",
       "3       Futrelle, Mrs. Jacques Heath (Lily May Peel)      0       1  female   \n",
       "4                           Allen, Mr. William Henry      0       3    male   \n",
       "\n",
       "   SibSp  Survived            Ticket Title  \n",
       "0      1       0.0         A/5 21171    Mr  \n",
       "1      1       1.0          PC 17599   Mrs  \n",
       "2      0       1.0  STON/O2. 3101282  Miss  \n",
       "3      1       1.0            113803   Mrs  \n",
       "4      0       0.0            373450    Mr  "
      ]
     },
     "execution_count": 16,
     "metadata": {},
     "output_type": "execute_result"
    }
   ],
   "source": [
    "#creating title for feature engineering\n",
    "\n",
    "titanic['Title']=titanic.Name.apply(lambda name:name.split(',')[1].split('.')[0].strip())\n",
    "\n",
    "titanic.head()"
   ]
  },
  {
   "cell_type": "code",
   "execution_count": 17,
   "metadata": {},
   "outputs": [
    {
     "name": "stdout",
     "output_type": "stream",
     "text": [
      "['Mr' 'Mrs' 'Miss' 'Master' 'Don' 'Rev' 'Dr' 'Mme' 'Ms' 'Major' 'Lady'\n",
      " 'Sir' 'Mlle' 'Col' 'Capt' 'the Countess' 'Jonkheer' 'Dona']\n"
     ]
    }
   ],
   "source": [
    "print(titanic.Title.unique())"
   ]
  },
  {
   "cell_type": "code",
   "execution_count": 27,
   "metadata": {
    "collapsed": true
   },
   "outputs": [],
   "source": [
    "# normalize the titles\n",
    "normalized_titles = {\n",
    "    \"Capt\":       \"Officer\",\n",
    "    \"Col\":        \"Officer\",\n",
    "    \"Major\":      \"Officer\",\n",
    "    \"Jonkheer\":   \"Royalty\",\n",
    "    \"Don\":        \"Royalty\",\n",
    "    \"Sir\" :       \"Royalty\",\n",
    "    \"Dr\":         \"Officer\",\n",
    "    \"Rev\":        \"Officer\",\n",
    "    \"the Countess\":\"Royalty\",\n",
    "    \"Dona\":       \"Royalty\",\n",
    "    \"Mme\":        \"Mrs\",\n",
    "    \"Mlle\":       \"Miss\",\n",
    "    \"Ms\":         \"Mrs\",\n",
    "    \"Mr\" :        \"Mr\",\n",
    "    \"Mrs\" :       \"Mrs\",\n",
    "    \"Miss\" :      \"Miss\",\n",
    "    \"Master\" :    \"Master\",\n",
    "    \"Lady\" :      \"Royalty\"\n",
    "}"
   ]
  },
  {
   "cell_type": "code",
   "execution_count": 28,
   "metadata": {
    "collapsed": true
   },
   "outputs": [],
   "source": [
    "# mapping to the normalized titles using the above defined dictionary\n",
    "\n",
    "titanic.Title=titanic.Title.map(normalized_titles)"
   ]
  },
  {
   "cell_type": "code",
   "execution_count": 29,
   "metadata": {},
   "outputs": [
    {
     "data": {
      "text/plain": [
       "Mr        757\n",
       "Miss      262\n",
       "Mrs       200\n",
       "Master     61\n",
       "Name: Title, dtype: int64"
      ]
     },
     "execution_count": 29,
     "metadata": {},
     "output_type": "execute_result"
    }
   ],
   "source": [
    "titanic.Title.value_counts()"
   ]
  },
  {
   "cell_type": "code",
   "execution_count": 30,
   "metadata": {},
   "outputs": [
    {
     "data": {
      "text/plain": [
       "Index(['Age', 'Cabin', 'Embarked', 'Fare', 'Name', 'Parch', 'Pclass', 'Sex',\n",
       "       'SibSp', 'Survived', 'Ticket', 'Title'],\n",
       "      dtype='object')"
      ]
     },
     "execution_count": 30,
     "metadata": {},
     "output_type": "execute_result"
    }
   ],
   "source": [
    "titanic.keys()"
   ]
  },
  {
   "cell_type": "code",
   "execution_count": 35,
   "metadata": {},
   "outputs": [
    {
     "data": {
      "text/plain": [
       "Sex     Pclass  Title \n",
       "female  1       Miss      30.0\n",
       "                Mrs       45.0\n",
       "        2       Miss      20.0\n",
       "                Mrs       30.0\n",
       "        3       Miss      18.0\n",
       "                Mrs       31.0\n",
       "male    1       Master     6.0\n",
       "                Mr        41.5\n",
       "        2       Master     2.0\n",
       "                Mr        30.0\n",
       "        3       Master     6.0\n",
       "                Mr        26.0\n",
       "Name: Age, dtype: float64"
      ]
     },
     "execution_count": 35,
     "metadata": {},
     "output_type": "execute_result"
    }
   ],
   "source": [
    "grouped.Age.median()"
   ]
  },
  {
   "cell_type": "code",
   "execution_count": 36,
   "metadata": {
    "collapsed": true
   },
   "outputs": [],
   "source": [
    "# apply group median to Age NaN\n",
    "\n",
    "titanic.Age=grouped.Age.apply(lambda x: x.fillna(x.median()))"
   ]
  },
  {
   "cell_type": "code",
   "execution_count": 37,
   "metadata": {},
   "outputs": [
    {
     "data": {
      "text/plain": [
       "Age           29\n",
       "Cabin       1014\n",
       "Embarked       2\n",
       "Fare           1\n",
       "Name           0\n",
       "Parch          0\n",
       "Pclass         0\n",
       "Sex            0\n",
       "SibSp          0\n",
       "Survived     418\n",
       "Ticket         0\n",
       "Title         29\n",
       "dtype: int64"
      ]
     },
     "execution_count": 37,
     "metadata": {},
     "output_type": "execute_result"
    }
   ],
   "source": [
    "titanic.isnull().sum()"
   ]
  },
  {
   "cell_type": "code",
   "execution_count": 38,
   "metadata": {
    "collapsed": true
   },
   "outputs": [],
   "source": [
    "# filling cabin with 'U'\n",
    "\n",
    "titanic.Cabin=titanic.Cabin.fillna('U')"
   ]
  },
  {
   "cell_type": "code",
   "execution_count": 39,
   "metadata": {},
   "outputs": [
    {
     "data": {
      "text/plain": [
       "Age          29\n",
       "Cabin         0\n",
       "Embarked      2\n",
       "Fare          1\n",
       "Name          0\n",
       "Parch         0\n",
       "Pclass        0\n",
       "Sex           0\n",
       "SibSp         0\n",
       "Survived    418\n",
       "Ticket        0\n",
       "Title        29\n",
       "dtype: int64"
      ]
     },
     "execution_count": 39,
     "metadata": {},
     "output_type": "execute_result"
    }
   ],
   "source": [
    "titanic.isnull().sum()"
   ]
  },
  {
   "cell_type": "code",
   "execution_count": 46,
   "metadata": {},
   "outputs": [
    {
     "data": {
      "text/plain": [
       "S    0.699311\n",
       "C    0.206580\n",
       "Q    0.094109\n",
       "Name: Embarked, dtype: float64"
      ]
     },
     "execution_count": 46,
     "metadata": {},
     "output_type": "execute_result"
    }
   ],
   "source": [
    "#checking the percentage frequency of the column\n",
    "titanic.Embarked.value_counts(normalize=True)\n"
   ]
  },
  {
   "cell_type": "code",
   "execution_count": 73,
   "metadata": {},
   "outputs": [
    {
     "name": "stdout",
     "output_type": "stream",
     "text": [
      "S\n"
     ]
    }
   ],
   "source": [
    "#filling it with 'S' since it has filled 70%\n",
    "\n",
    "most_embarked=titanic.Embarked.value_counts().index[0]\n",
    "print(most_embarked)"
   ]
  },
  {
   "cell_type": "code",
   "execution_count": 74,
   "metadata": {
    "collapsed": true
   },
   "outputs": [],
   "source": [
    "#so, no point in moving it to median, hence filling NaN with the most embarked value\n",
    "\n",
    "titanic.Embarked=titanic.Embarked.fillna(most_embarked)"
   ]
  },
  {
   "cell_type": "code",
   "execution_count": 75,
   "metadata": {},
   "outputs": [
    {
     "data": {
      "text/plain": [
       "Age           0\n",
       "Cabin         0\n",
       "Embarked      0\n",
       "Fare          1\n",
       "Name          0\n",
       "Parch         0\n",
       "Pclass        0\n",
       "Sex           0\n",
       "SibSp         0\n",
       "Survived    418\n",
       "Ticket        0\n",
       "Title         0\n",
       "dtype: int64"
      ]
     },
     "execution_count": 75,
     "metadata": {},
     "output_type": "execute_result"
    }
   ],
   "source": [
    "titanic.isnull().sum()"
   ]
  },
  {
   "cell_type": "code",
   "execution_count": 76,
   "metadata": {
    "collapsed": true
   },
   "outputs": [],
   "source": [
    "# fare, filling NaN\n",
    "\n",
    "titanic.Fare=titanic.Fare.fillna(titanic.Fare.median())"
   ]
  },
  {
   "cell_type": "code",
   "execution_count": 77,
   "metadata": {},
   "outputs": [
    {
     "data": {
      "text/plain": [
       "Age           0\n",
       "Cabin         0\n",
       "Embarked      0\n",
       "Fare          0\n",
       "Name          0\n",
       "Parch         0\n",
       "Pclass        0\n",
       "Sex           0\n",
       "SibSp         0\n",
       "Survived    418\n",
       "Ticket        0\n",
       "Title         0\n",
       "dtype: int64"
      ]
     },
     "execution_count": 77,
     "metadata": {},
     "output_type": "execute_result"
    }
   ],
   "source": [
    "titanic.isnull().sum()"
   ]
  },
  {
   "cell_type": "code",
   "execution_count": 78,
   "metadata": {},
   "outputs": [
    {
     "data": {
      "text/plain": [
       "0.0    549\n",
       "1.0    342\n",
       "Name: Survived, dtype: int64"
      ]
     },
     "execution_count": 78,
     "metadata": {},
     "output_type": "execute_result"
    }
   ],
   "source": [
    "# Checking the data further\n",
    "\n",
    "\n",
    "titanic.Survived.value_counts()"
   ]
  },
  {
   "cell_type": "code",
   "execution_count": 79,
   "metadata": {},
   "outputs": [
    {
     "data": {
      "text/plain": [
       "891"
      ]
     },
     "execution_count": 79,
     "metadata": {},
     "output_type": "execute_result"
    }
   ],
   "source": [
    "titanic.Survived.count()"
   ]
  },
  {
   "cell_type": "code",
   "execution_count": 80,
   "metadata": {},
   "outputs": [
    {
     "data": {
      "text/plain": [
       "0.0    0.616162\n",
       "1.0    0.383838\n",
       "Name: Survived, dtype: float64"
      ]
     },
     "execution_count": 80,
     "metadata": {},
     "output_type": "execute_result"
    }
   ],
   "source": [
    "titanic.Survived.value_counts(normalize=True)"
   ]
  },
  {
   "cell_type": "code",
   "execution_count": 82,
   "metadata": {
    "collapsed": true
   },
   "outputs": [],
   "source": [
    "# checking grouping by Sex\n",
    "\n",
    "group_by_sex=titanic.groupby('Sex').Survived.mean()"
   ]
  },
  {
   "cell_type": "code",
   "execution_count": 83,
   "metadata": {},
   "outputs": [
    {
     "data": {
      "text/plain": [
       "Sex\n",
       "female    0.742038\n",
       "male      0.188908\n",
       "Name: Survived, dtype: float64"
      ]
     },
     "execution_count": 83,
     "metadata": {},
     "output_type": "execute_result"
    }
   ],
   "source": [
    "group_by_sex"
   ]
  },
  {
   "cell_type": "code",
   "execution_count": 84,
   "metadata": {
    "collapsed": true
   },
   "outputs": [],
   "source": [
    "group_class_sex=titanic.groupby(['Pclass','Sex']).Survived.mean()"
   ]
  },
  {
   "cell_type": "code",
   "execution_count": 85,
   "metadata": {},
   "outputs": [
    {
     "data": {
      "text/plain": [
       "Pclass  Sex   \n",
       "1       female    0.968085\n",
       "        male      0.368852\n",
       "2       female    0.921053\n",
       "        male      0.157407\n",
       "3       female    0.500000\n",
       "        male      0.135447\n",
       "Name: Survived, dtype: float64"
      ]
     },
     "execution_count": 85,
     "metadata": {},
     "output_type": "execute_result"
    }
   ],
   "source": [
    "group_class_sex"
   ]
  },
  {
   "cell_type": "code",
   "execution_count": 90,
   "metadata": {},
   "outputs": [
    {
     "data": {
      "application/javascript": [
       "/* Put everything inside the global mpl namespace */\n",
       "window.mpl = {};\n",
       "\n",
       "\n",
       "mpl.get_websocket_type = function() {\n",
       "    if (typeof(WebSocket) !== 'undefined') {\n",
       "        return WebSocket;\n",
       "    } else if (typeof(MozWebSocket) !== 'undefined') {\n",
       "        return MozWebSocket;\n",
       "    } else {\n",
       "        alert('Your browser does not have WebSocket support.' +\n",
       "              'Please try Chrome, Safari or Firefox ≥ 6. ' +\n",
       "              'Firefox 4 and 5 are also supported but you ' +\n",
       "              'have to enable WebSockets in about:config.');\n",
       "    };\n",
       "}\n",
       "\n",
       "mpl.figure = function(figure_id, websocket, ondownload, parent_element) {\n",
       "    this.id = figure_id;\n",
       "\n",
       "    this.ws = websocket;\n",
       "\n",
       "    this.supports_binary = (this.ws.binaryType != undefined);\n",
       "\n",
       "    if (!this.supports_binary) {\n",
       "        var warnings = document.getElementById(\"mpl-warnings\");\n",
       "        if (warnings) {\n",
       "            warnings.style.display = 'block';\n",
       "            warnings.textContent = (\n",
       "                \"This browser does not support binary websocket messages. \" +\n",
       "                    \"Performance may be slow.\");\n",
       "        }\n",
       "    }\n",
       "\n",
       "    this.imageObj = new Image();\n",
       "\n",
       "    this.context = undefined;\n",
       "    this.message = undefined;\n",
       "    this.canvas = undefined;\n",
       "    this.rubberband_canvas = undefined;\n",
       "    this.rubberband_context = undefined;\n",
       "    this.format_dropdown = undefined;\n",
       "\n",
       "    this.image_mode = 'full';\n",
       "\n",
       "    this.root = $('<div/>');\n",
       "    this._root_extra_style(this.root)\n",
       "    this.root.attr('style', 'display: inline-block');\n",
       "\n",
       "    $(parent_element).append(this.root);\n",
       "\n",
       "    this._init_header(this);\n",
       "    this._init_canvas(this);\n",
       "    this._init_toolbar(this);\n",
       "\n",
       "    var fig = this;\n",
       "\n",
       "    this.waiting = false;\n",
       "\n",
       "    this.ws.onopen =  function () {\n",
       "            fig.send_message(\"supports_binary\", {value: fig.supports_binary});\n",
       "            fig.send_message(\"send_image_mode\", {});\n",
       "            if (mpl.ratio != 1) {\n",
       "                fig.send_message(\"set_dpi_ratio\", {'dpi_ratio': mpl.ratio});\n",
       "            }\n",
       "            fig.send_message(\"refresh\", {});\n",
       "        }\n",
       "\n",
       "    this.imageObj.onload = function() {\n",
       "            if (fig.image_mode == 'full') {\n",
       "                // Full images could contain transparency (where diff images\n",
       "                // almost always do), so we need to clear the canvas so that\n",
       "                // there is no ghosting.\n",
       "                fig.context.clearRect(0, 0, fig.canvas.width, fig.canvas.height);\n",
       "            }\n",
       "            fig.context.drawImage(fig.imageObj, 0, 0);\n",
       "        };\n",
       "\n",
       "    this.imageObj.onunload = function() {\n",
       "        fig.ws.close();\n",
       "    }\n",
       "\n",
       "    this.ws.onmessage = this._make_on_message_function(this);\n",
       "\n",
       "    this.ondownload = ondownload;\n",
       "}\n",
       "\n",
       "mpl.figure.prototype._init_header = function() {\n",
       "    var titlebar = $(\n",
       "        '<div class=\"ui-dialog-titlebar ui-widget-header ui-corner-all ' +\n",
       "        'ui-helper-clearfix\"/>');\n",
       "    var titletext = $(\n",
       "        '<div class=\"ui-dialog-title\" style=\"width: 100%; ' +\n",
       "        'text-align: center; padding: 3px;\"/>');\n",
       "    titlebar.append(titletext)\n",
       "    this.root.append(titlebar);\n",
       "    this.header = titletext[0];\n",
       "}\n",
       "\n",
       "\n",
       "\n",
       "mpl.figure.prototype._canvas_extra_style = function(canvas_div) {\n",
       "\n",
       "}\n",
       "\n",
       "\n",
       "mpl.figure.prototype._root_extra_style = function(canvas_div) {\n",
       "\n",
       "}\n",
       "\n",
       "mpl.figure.prototype._init_canvas = function() {\n",
       "    var fig = this;\n",
       "\n",
       "    var canvas_div = $('<div/>');\n",
       "\n",
       "    canvas_div.attr('style', 'position: relative; clear: both; outline: 0');\n",
       "\n",
       "    function canvas_keyboard_event(event) {\n",
       "        return fig.key_event(event, event['data']);\n",
       "    }\n",
       "\n",
       "    canvas_div.keydown('key_press', canvas_keyboard_event);\n",
       "    canvas_div.keyup('key_release', canvas_keyboard_event);\n",
       "    this.canvas_div = canvas_div\n",
       "    this._canvas_extra_style(canvas_div)\n",
       "    this.root.append(canvas_div);\n",
       "\n",
       "    var canvas = $('<canvas/>');\n",
       "    canvas.addClass('mpl-canvas');\n",
       "    canvas.attr('style', \"left: 0; top: 0; z-index: 0; outline: 0\")\n",
       "\n",
       "    this.canvas = canvas[0];\n",
       "    this.context = canvas[0].getContext(\"2d\");\n",
       "\n",
       "    var backingStore = this.context.backingStorePixelRatio ||\n",
       "\tthis.context.webkitBackingStorePixelRatio ||\n",
       "\tthis.context.mozBackingStorePixelRatio ||\n",
       "\tthis.context.msBackingStorePixelRatio ||\n",
       "\tthis.context.oBackingStorePixelRatio ||\n",
       "\tthis.context.backingStorePixelRatio || 1;\n",
       "\n",
       "    mpl.ratio = (window.devicePixelRatio || 1) / backingStore;\n",
       "\n",
       "    var rubberband = $('<canvas/>');\n",
       "    rubberband.attr('style', \"position: absolute; left: 0; top: 0; z-index: 1;\")\n",
       "\n",
       "    var pass_mouse_events = true;\n",
       "\n",
       "    canvas_div.resizable({\n",
       "        start: function(event, ui) {\n",
       "            pass_mouse_events = false;\n",
       "        },\n",
       "        resize: function(event, ui) {\n",
       "            fig.request_resize(ui.size.width, ui.size.height);\n",
       "        },\n",
       "        stop: function(event, ui) {\n",
       "            pass_mouse_events = true;\n",
       "            fig.request_resize(ui.size.width, ui.size.height);\n",
       "        },\n",
       "    });\n",
       "\n",
       "    function mouse_event_fn(event) {\n",
       "        if (pass_mouse_events)\n",
       "            return fig.mouse_event(event, event['data']);\n",
       "    }\n",
       "\n",
       "    rubberband.mousedown('button_press', mouse_event_fn);\n",
       "    rubberband.mouseup('button_release', mouse_event_fn);\n",
       "    // Throttle sequential mouse events to 1 every 20ms.\n",
       "    rubberband.mousemove('motion_notify', mouse_event_fn);\n",
       "\n",
       "    rubberband.mouseenter('figure_enter', mouse_event_fn);\n",
       "    rubberband.mouseleave('figure_leave', mouse_event_fn);\n",
       "\n",
       "    canvas_div.on(\"wheel\", function (event) {\n",
       "        event = event.originalEvent;\n",
       "        event['data'] = 'scroll'\n",
       "        if (event.deltaY < 0) {\n",
       "            event.step = 1;\n",
       "        } else {\n",
       "            event.step = -1;\n",
       "        }\n",
       "        mouse_event_fn(event);\n",
       "    });\n",
       "\n",
       "    canvas_div.append(canvas);\n",
       "    canvas_div.append(rubberband);\n",
       "\n",
       "    this.rubberband = rubberband;\n",
       "    this.rubberband_canvas = rubberband[0];\n",
       "    this.rubberband_context = rubberband[0].getContext(\"2d\");\n",
       "    this.rubberband_context.strokeStyle = \"#000000\";\n",
       "\n",
       "    this._resize_canvas = function(width, height) {\n",
       "        // Keep the size of the canvas, canvas container, and rubber band\n",
       "        // canvas in synch.\n",
       "        canvas_div.css('width', width)\n",
       "        canvas_div.css('height', height)\n",
       "\n",
       "        canvas.attr('width', width * mpl.ratio);\n",
       "        canvas.attr('height', height * mpl.ratio);\n",
       "        canvas.attr('style', 'width: ' + width + 'px; height: ' + height + 'px;');\n",
       "\n",
       "        rubberband.attr('width', width);\n",
       "        rubberband.attr('height', height);\n",
       "    }\n",
       "\n",
       "    // Set the figure to an initial 600x600px, this will subsequently be updated\n",
       "    // upon first draw.\n",
       "    this._resize_canvas(600, 600);\n",
       "\n",
       "    // Disable right mouse context menu.\n",
       "    $(this.rubberband_canvas).bind(\"contextmenu\",function(e){\n",
       "        return false;\n",
       "    });\n",
       "\n",
       "    function set_focus () {\n",
       "        canvas.focus();\n",
       "        canvas_div.focus();\n",
       "    }\n",
       "\n",
       "    window.setTimeout(set_focus, 100);\n",
       "}\n",
       "\n",
       "mpl.figure.prototype._init_toolbar = function() {\n",
       "    var fig = this;\n",
       "\n",
       "    var nav_element = $('<div/>')\n",
       "    nav_element.attr('style', 'width: 100%');\n",
       "    this.root.append(nav_element);\n",
       "\n",
       "    // Define a callback function for later on.\n",
       "    function toolbar_event(event) {\n",
       "        return fig.toolbar_button_onclick(event['data']);\n",
       "    }\n",
       "    function toolbar_mouse_event(event) {\n",
       "        return fig.toolbar_button_onmouseover(event['data']);\n",
       "    }\n",
       "\n",
       "    for(var toolbar_ind in mpl.toolbar_items) {\n",
       "        var name = mpl.toolbar_items[toolbar_ind][0];\n",
       "        var tooltip = mpl.toolbar_items[toolbar_ind][1];\n",
       "        var image = mpl.toolbar_items[toolbar_ind][2];\n",
       "        var method_name = mpl.toolbar_items[toolbar_ind][3];\n",
       "\n",
       "        if (!name) {\n",
       "            // put a spacer in here.\n",
       "            continue;\n",
       "        }\n",
       "        var button = $('<button/>');\n",
       "        button.addClass('ui-button ui-widget ui-state-default ui-corner-all ' +\n",
       "                        'ui-button-icon-only');\n",
       "        button.attr('role', 'button');\n",
       "        button.attr('aria-disabled', 'false');\n",
       "        button.click(method_name, toolbar_event);\n",
       "        button.mouseover(tooltip, toolbar_mouse_event);\n",
       "\n",
       "        var icon_img = $('<span/>');\n",
       "        icon_img.addClass('ui-button-icon-primary ui-icon');\n",
       "        icon_img.addClass(image);\n",
       "        icon_img.addClass('ui-corner-all');\n",
       "\n",
       "        var tooltip_span = $('<span/>');\n",
       "        tooltip_span.addClass('ui-button-text');\n",
       "        tooltip_span.html(tooltip);\n",
       "\n",
       "        button.append(icon_img);\n",
       "        button.append(tooltip_span);\n",
       "\n",
       "        nav_element.append(button);\n",
       "    }\n",
       "\n",
       "    var fmt_picker_span = $('<span/>');\n",
       "\n",
       "    var fmt_picker = $('<select/>');\n",
       "    fmt_picker.addClass('mpl-toolbar-option ui-widget ui-widget-content');\n",
       "    fmt_picker_span.append(fmt_picker);\n",
       "    nav_element.append(fmt_picker_span);\n",
       "    this.format_dropdown = fmt_picker[0];\n",
       "\n",
       "    for (var ind in mpl.extensions) {\n",
       "        var fmt = mpl.extensions[ind];\n",
       "        var option = $(\n",
       "            '<option/>', {selected: fmt === mpl.default_extension}).html(fmt);\n",
       "        fmt_picker.append(option)\n",
       "    }\n",
       "\n",
       "    // Add hover states to the ui-buttons\n",
       "    $( \".ui-button\" ).hover(\n",
       "        function() { $(this).addClass(\"ui-state-hover\");},\n",
       "        function() { $(this).removeClass(\"ui-state-hover\");}\n",
       "    );\n",
       "\n",
       "    var status_bar = $('<span class=\"mpl-message\"/>');\n",
       "    nav_element.append(status_bar);\n",
       "    this.message = status_bar[0];\n",
       "}\n",
       "\n",
       "mpl.figure.prototype.request_resize = function(x_pixels, y_pixels) {\n",
       "    // Request matplotlib to resize the figure. Matplotlib will then trigger a resize in the client,\n",
       "    // which will in turn request a refresh of the image.\n",
       "    this.send_message('resize', {'width': x_pixels, 'height': y_pixels});\n",
       "}\n",
       "\n",
       "mpl.figure.prototype.send_message = function(type, properties) {\n",
       "    properties['type'] = type;\n",
       "    properties['figure_id'] = this.id;\n",
       "    this.ws.send(JSON.stringify(properties));\n",
       "}\n",
       "\n",
       "mpl.figure.prototype.send_draw_message = function() {\n",
       "    if (!this.waiting) {\n",
       "        this.waiting = true;\n",
       "        this.ws.send(JSON.stringify({type: \"draw\", figure_id: this.id}));\n",
       "    }\n",
       "}\n",
       "\n",
       "\n",
       "mpl.figure.prototype.handle_save = function(fig, msg) {\n",
       "    var format_dropdown = fig.format_dropdown;\n",
       "    var format = format_dropdown.options[format_dropdown.selectedIndex].value;\n",
       "    fig.ondownload(fig, format);\n",
       "}\n",
       "\n",
       "\n",
       "mpl.figure.prototype.handle_resize = function(fig, msg) {\n",
       "    var size = msg['size'];\n",
       "    if (size[0] != fig.canvas.width || size[1] != fig.canvas.height) {\n",
       "        fig._resize_canvas(size[0], size[1]);\n",
       "        fig.send_message(\"refresh\", {});\n",
       "    };\n",
       "}\n",
       "\n",
       "mpl.figure.prototype.handle_rubberband = function(fig, msg) {\n",
       "    var x0 = msg['x0'] / mpl.ratio;\n",
       "    var y0 = (fig.canvas.height - msg['y0']) / mpl.ratio;\n",
       "    var x1 = msg['x1'] / mpl.ratio;\n",
       "    var y1 = (fig.canvas.height - msg['y1']) / mpl.ratio;\n",
       "    x0 = Math.floor(x0) + 0.5;\n",
       "    y0 = Math.floor(y0) + 0.5;\n",
       "    x1 = Math.floor(x1) + 0.5;\n",
       "    y1 = Math.floor(y1) + 0.5;\n",
       "    var min_x = Math.min(x0, x1);\n",
       "    var min_y = Math.min(y0, y1);\n",
       "    var width = Math.abs(x1 - x0);\n",
       "    var height = Math.abs(y1 - y0);\n",
       "\n",
       "    fig.rubberband_context.clearRect(\n",
       "        0, 0, fig.canvas.width, fig.canvas.height);\n",
       "\n",
       "    fig.rubberband_context.strokeRect(min_x, min_y, width, height);\n",
       "}\n",
       "\n",
       "mpl.figure.prototype.handle_figure_label = function(fig, msg) {\n",
       "    // Updates the figure title.\n",
       "    fig.header.textContent = msg['label'];\n",
       "}\n",
       "\n",
       "mpl.figure.prototype.handle_cursor = function(fig, msg) {\n",
       "    var cursor = msg['cursor'];\n",
       "    switch(cursor)\n",
       "    {\n",
       "    case 0:\n",
       "        cursor = 'pointer';\n",
       "        break;\n",
       "    case 1:\n",
       "        cursor = 'default';\n",
       "        break;\n",
       "    case 2:\n",
       "        cursor = 'crosshair';\n",
       "        break;\n",
       "    case 3:\n",
       "        cursor = 'move';\n",
       "        break;\n",
       "    }\n",
       "    fig.rubberband_canvas.style.cursor = cursor;\n",
       "}\n",
       "\n",
       "mpl.figure.prototype.handle_message = function(fig, msg) {\n",
       "    fig.message.textContent = msg['message'];\n",
       "}\n",
       "\n",
       "mpl.figure.prototype.handle_draw = function(fig, msg) {\n",
       "    // Request the server to send over a new figure.\n",
       "    fig.send_draw_message();\n",
       "}\n",
       "\n",
       "mpl.figure.prototype.handle_image_mode = function(fig, msg) {\n",
       "    fig.image_mode = msg['mode'];\n",
       "}\n",
       "\n",
       "mpl.figure.prototype.updated_canvas_event = function() {\n",
       "    // Called whenever the canvas gets updated.\n",
       "    this.send_message(\"ack\", {});\n",
       "}\n",
       "\n",
       "// A function to construct a web socket function for onmessage handling.\n",
       "// Called in the figure constructor.\n",
       "mpl.figure.prototype._make_on_message_function = function(fig) {\n",
       "    return function socket_on_message(evt) {\n",
       "        if (evt.data instanceof Blob) {\n",
       "            /* FIXME: We get \"Resource interpreted as Image but\n",
       "             * transferred with MIME type text/plain:\" errors on\n",
       "             * Chrome.  But how to set the MIME type?  It doesn't seem\n",
       "             * to be part of the websocket stream */\n",
       "            evt.data.type = \"image/png\";\n",
       "\n",
       "            /* Free the memory for the previous frames */\n",
       "            if (fig.imageObj.src) {\n",
       "                (window.URL || window.webkitURL).revokeObjectURL(\n",
       "                    fig.imageObj.src);\n",
       "            }\n",
       "\n",
       "            fig.imageObj.src = (window.URL || window.webkitURL).createObjectURL(\n",
       "                evt.data);\n",
       "            fig.updated_canvas_event();\n",
       "            fig.waiting = false;\n",
       "            return;\n",
       "        }\n",
       "        else if (typeof evt.data === 'string' && evt.data.slice(0, 21) == \"data:image/png;base64\") {\n",
       "            fig.imageObj.src = evt.data;\n",
       "            fig.updated_canvas_event();\n",
       "            fig.waiting = false;\n",
       "            return;\n",
       "        }\n",
       "\n",
       "        var msg = JSON.parse(evt.data);\n",
       "        var msg_type = msg['type'];\n",
       "\n",
       "        // Call the  \"handle_{type}\" callback, which takes\n",
       "        // the figure and JSON message as its only arguments.\n",
       "        try {\n",
       "            var callback = fig[\"handle_\" + msg_type];\n",
       "        } catch (e) {\n",
       "            console.log(\"No handler for the '\" + msg_type + \"' message type: \", msg);\n",
       "            return;\n",
       "        }\n",
       "\n",
       "        if (callback) {\n",
       "            try {\n",
       "                // console.log(\"Handling '\" + msg_type + \"' message: \", msg);\n",
       "                callback(fig, msg);\n",
       "            } catch (e) {\n",
       "                console.log(\"Exception inside the 'handler_\" + msg_type + \"' callback:\", e, e.stack, msg);\n",
       "            }\n",
       "        }\n",
       "    };\n",
       "}\n",
       "\n",
       "// from http://stackoverflow.com/questions/1114465/getting-mouse-location-in-canvas\n",
       "mpl.findpos = function(e) {\n",
       "    //this section is from http://www.quirksmode.org/js/events_properties.html\n",
       "    var targ;\n",
       "    if (!e)\n",
       "        e = window.event;\n",
       "    if (e.target)\n",
       "        targ = e.target;\n",
       "    else if (e.srcElement)\n",
       "        targ = e.srcElement;\n",
       "    if (targ.nodeType == 3) // defeat Safari bug\n",
       "        targ = targ.parentNode;\n",
       "\n",
       "    // jQuery normalizes the pageX and pageY\n",
       "    // pageX,Y are the mouse positions relative to the document\n",
       "    // offset() returns the position of the element relative to the document\n",
       "    var x = e.pageX - $(targ).offset().left;\n",
       "    var y = e.pageY - $(targ).offset().top;\n",
       "\n",
       "    return {\"x\": x, \"y\": y};\n",
       "};\n",
       "\n",
       "/*\n",
       " * return a copy of an object with only non-object keys\n",
       " * we need this to avoid circular references\n",
       " * http://stackoverflow.com/a/24161582/3208463\n",
       " */\n",
       "function simpleKeys (original) {\n",
       "  return Object.keys(original).reduce(function (obj, key) {\n",
       "    if (typeof original[key] !== 'object')\n",
       "        obj[key] = original[key]\n",
       "    return obj;\n",
       "  }, {});\n",
       "}\n",
       "\n",
       "mpl.figure.prototype.mouse_event = function(event, name) {\n",
       "    var canvas_pos = mpl.findpos(event)\n",
       "\n",
       "    if (name === 'button_press')\n",
       "    {\n",
       "        this.canvas.focus();\n",
       "        this.canvas_div.focus();\n",
       "    }\n",
       "\n",
       "    var x = canvas_pos.x * mpl.ratio;\n",
       "    var y = canvas_pos.y * mpl.ratio;\n",
       "\n",
       "    this.send_message(name, {x: x, y: y, button: event.button,\n",
       "                             step: event.step,\n",
       "                             guiEvent: simpleKeys(event)});\n",
       "\n",
       "    /* This prevents the web browser from automatically changing to\n",
       "     * the text insertion cursor when the button is pressed.  We want\n",
       "     * to control all of the cursor setting manually through the\n",
       "     * 'cursor' event from matplotlib */\n",
       "    event.preventDefault();\n",
       "    return false;\n",
       "}\n",
       "\n",
       "mpl.figure.prototype._key_event_extra = function(event, name) {\n",
       "    // Handle any extra behaviour associated with a key event\n",
       "}\n",
       "\n",
       "mpl.figure.prototype.key_event = function(event, name) {\n",
       "\n",
       "    // Prevent repeat events\n",
       "    if (name == 'key_press')\n",
       "    {\n",
       "        if (event.which === this._key)\n",
       "            return;\n",
       "        else\n",
       "            this._key = event.which;\n",
       "    }\n",
       "    if (name == 'key_release')\n",
       "        this._key = null;\n",
       "\n",
       "    var value = '';\n",
       "    if (event.ctrlKey && event.which != 17)\n",
       "        value += \"ctrl+\";\n",
       "    if (event.altKey && event.which != 18)\n",
       "        value += \"alt+\";\n",
       "    if (event.shiftKey && event.which != 16)\n",
       "        value += \"shift+\";\n",
       "\n",
       "    value += 'k';\n",
       "    value += event.which.toString();\n",
       "\n",
       "    this._key_event_extra(event, name);\n",
       "\n",
       "    this.send_message(name, {key: value,\n",
       "                             guiEvent: simpleKeys(event)});\n",
       "    return false;\n",
       "}\n",
       "\n",
       "mpl.figure.prototype.toolbar_button_onclick = function(name) {\n",
       "    if (name == 'download') {\n",
       "        this.handle_save(this, null);\n",
       "    } else {\n",
       "        this.send_message(\"toolbar_button\", {name: name});\n",
       "    }\n",
       "};\n",
       "\n",
       "mpl.figure.prototype.toolbar_button_onmouseover = function(tooltip) {\n",
       "    this.message.textContent = tooltip;\n",
       "};\n",
       "mpl.toolbar_items = [[\"Home\", \"Reset original view\", \"fa fa-home icon-home\", \"home\"], [\"Back\", \"Back to  previous view\", \"fa fa-arrow-left icon-arrow-left\", \"back\"], [\"Forward\", \"Forward to next view\", \"fa fa-arrow-right icon-arrow-right\", \"forward\"], [\"\", \"\", \"\", \"\"], [\"Pan\", \"Pan axes with left mouse, zoom with right\", \"fa fa-arrows icon-move\", \"pan\"], [\"Zoom\", \"Zoom to rectangle\", \"fa fa-square-o icon-check-empty\", \"zoom\"], [\"\", \"\", \"\", \"\"], [\"Download\", \"Download plot\", \"fa fa-floppy-o icon-save\", \"download\"]];\n",
       "\n",
       "mpl.extensions = [\"eps\", \"jpeg\", \"pdf\", \"png\", \"ps\", \"raw\", \"svg\", \"tif\"];\n",
       "\n",
       "mpl.default_extension = \"png\";var comm_websocket_adapter = function(comm) {\n",
       "    // Create a \"websocket\"-like object which calls the given IPython comm\n",
       "    // object with the appropriate methods. Currently this is a non binary\n",
       "    // socket, so there is still some room for performance tuning.\n",
       "    var ws = {};\n",
       "\n",
       "    ws.close = function() {\n",
       "        comm.close()\n",
       "    };\n",
       "    ws.send = function(m) {\n",
       "        //console.log('sending', m);\n",
       "        comm.send(m);\n",
       "    };\n",
       "    // Register the callback with on_msg.\n",
       "    comm.on_msg(function(msg) {\n",
       "        //console.log('receiving', msg['content']['data'], msg);\n",
       "        // Pass the mpl event to the overriden (by mpl) onmessage function.\n",
       "        ws.onmessage(msg['content']['data'])\n",
       "    });\n",
       "    return ws;\n",
       "}\n",
       "\n",
       "mpl.mpl_figure_comm = function(comm, msg) {\n",
       "    // This is the function which gets called when the mpl process\n",
       "    // starts-up an IPython Comm through the \"matplotlib\" channel.\n",
       "\n",
       "    var id = msg.content.data.id;\n",
       "    // Get hold of the div created by the display call when the Comm\n",
       "    // socket was opened in Python.\n",
       "    var element = $(\"#\" + id);\n",
       "    var ws_proxy = comm_websocket_adapter(comm)\n",
       "\n",
       "    function ondownload(figure, format) {\n",
       "        window.open(figure.imageObj.src);\n",
       "    }\n",
       "\n",
       "    var fig = new mpl.figure(id, ws_proxy,\n",
       "                           ondownload,\n",
       "                           element.get(0));\n",
       "\n",
       "    // Call onopen now - mpl needs it, as it is assuming we've passed it a real\n",
       "    // web socket which is closed, not our websocket->open comm proxy.\n",
       "    ws_proxy.onopen();\n",
       "\n",
       "    fig.parent_element = element.get(0);\n",
       "    fig.cell_info = mpl.find_output_cell(\"<div id='\" + id + \"'></div>\");\n",
       "    if (!fig.cell_info) {\n",
       "        console.error(\"Failed to find cell for figure\", id, fig);\n",
       "        return;\n",
       "    }\n",
       "\n",
       "    var output_index = fig.cell_info[2]\n",
       "    var cell = fig.cell_info[0];\n",
       "\n",
       "};\n",
       "\n",
       "mpl.figure.prototype.handle_close = function(fig, msg) {\n",
       "    var width = fig.canvas.width/mpl.ratio\n",
       "    fig.root.unbind('remove')\n",
       "\n",
       "    // Update the output cell to use the data from the current canvas.\n",
       "    fig.push_to_output();\n",
       "    var dataURL = fig.canvas.toDataURL();\n",
       "    // Re-enable the keyboard manager in IPython - without this line, in FF,\n",
       "    // the notebook keyboard shortcuts fail.\n",
       "    IPython.keyboard_manager.enable()\n",
       "    $(fig.parent_element).html('<img src=\"' + dataURL + '\" width=\"' + width + '\">');\n",
       "    fig.close_ws(fig, msg);\n",
       "}\n",
       "\n",
       "mpl.figure.prototype.close_ws = function(fig, msg){\n",
       "    fig.send_message('closing', msg);\n",
       "    // fig.ws.close()\n",
       "}\n",
       "\n",
       "mpl.figure.prototype.push_to_output = function(remove_interactive) {\n",
       "    // Turn the data on the canvas into data in the output cell.\n",
       "    var width = this.canvas.width/mpl.ratio\n",
       "    var dataURL = this.canvas.toDataURL();\n",
       "    this.cell_info[1]['text/html'] = '<img src=\"' + dataURL + '\" width=\"' + width + '\">';\n",
       "}\n",
       "\n",
       "mpl.figure.prototype.updated_canvas_event = function() {\n",
       "    // Tell IPython that the notebook contents must change.\n",
       "    IPython.notebook.set_dirty(true);\n",
       "    this.send_message(\"ack\", {});\n",
       "    var fig = this;\n",
       "    // Wait a second, then push the new image to the DOM so\n",
       "    // that it is saved nicely (might be nice to debounce this).\n",
       "    setTimeout(function () { fig.push_to_output() }, 1000);\n",
       "}\n",
       "\n",
       "mpl.figure.prototype._init_toolbar = function() {\n",
       "    var fig = this;\n",
       "\n",
       "    var nav_element = $('<div/>')\n",
       "    nav_element.attr('style', 'width: 100%');\n",
       "    this.root.append(nav_element);\n",
       "\n",
       "    // Define a callback function for later on.\n",
       "    function toolbar_event(event) {\n",
       "        return fig.toolbar_button_onclick(event['data']);\n",
       "    }\n",
       "    function toolbar_mouse_event(event) {\n",
       "        return fig.toolbar_button_onmouseover(event['data']);\n",
       "    }\n",
       "\n",
       "    for(var toolbar_ind in mpl.toolbar_items){\n",
       "        var name = mpl.toolbar_items[toolbar_ind][0];\n",
       "        var tooltip = mpl.toolbar_items[toolbar_ind][1];\n",
       "        var image = mpl.toolbar_items[toolbar_ind][2];\n",
       "        var method_name = mpl.toolbar_items[toolbar_ind][3];\n",
       "\n",
       "        if (!name) { continue; };\n",
       "\n",
       "        var button = $('<button class=\"btn btn-default\" href=\"#\" title=\"' + name + '\"><i class=\"fa ' + image + ' fa-lg\"></i></button>');\n",
       "        button.click(method_name, toolbar_event);\n",
       "        button.mouseover(tooltip, toolbar_mouse_event);\n",
       "        nav_element.append(button);\n",
       "    }\n",
       "\n",
       "    // Add the status bar.\n",
       "    var status_bar = $('<span class=\"mpl-message\" style=\"text-align:right; float: right;\"/>');\n",
       "    nav_element.append(status_bar);\n",
       "    this.message = status_bar[0];\n",
       "\n",
       "    // Add the close button to the window.\n",
       "    var buttongrp = $('<div class=\"btn-group inline pull-right\"></div>');\n",
       "    var button = $('<button class=\"btn btn-mini btn-primary\" href=\"#\" title=\"Stop Interaction\"><i class=\"fa fa-power-off icon-remove icon-large\"></i></button>');\n",
       "    button.click(function (evt) { fig.handle_close(fig, {}); } );\n",
       "    button.mouseover('Stop Interaction', toolbar_mouse_event);\n",
       "    buttongrp.append(button);\n",
       "    var titlebar = this.root.find($('.ui-dialog-titlebar'));\n",
       "    titlebar.prepend(buttongrp);\n",
       "}\n",
       "\n",
       "mpl.figure.prototype._root_extra_style = function(el){\n",
       "    var fig = this\n",
       "    el.on(\"remove\", function(){\n",
       "\tfig.close_ws(fig, {});\n",
       "    });\n",
       "}\n",
       "\n",
       "mpl.figure.prototype._canvas_extra_style = function(el){\n",
       "    // this is important to make the div 'focusable\n",
       "    el.attr('tabindex', 0)\n",
       "    // reach out to IPython and tell the keyboard manager to turn it's self\n",
       "    // off when our div gets focus\n",
       "\n",
       "    // location in version 3\n",
       "    if (IPython.notebook.keyboard_manager) {\n",
       "        IPython.notebook.keyboard_manager.register_events(el);\n",
       "    }\n",
       "    else {\n",
       "        // location in version 2\n",
       "        IPython.keyboard_manager.register_events(el);\n",
       "    }\n",
       "\n",
       "}\n",
       "\n",
       "mpl.figure.prototype._key_event_extra = function(event, name) {\n",
       "    var manager = IPython.notebook.keyboard_manager;\n",
       "    if (!manager)\n",
       "        manager = IPython.keyboard_manager;\n",
       "\n",
       "    // Check for shift+enter\n",
       "    if (event.shiftKey && event.which == 13) {\n",
       "        this.canvas_div.blur();\n",
       "        event.shiftKey = false;\n",
       "        // Send a \"J\" for go to next cell\n",
       "        event.which = 74;\n",
       "        event.keyCode = 74;\n",
       "        manager.command_mode();\n",
       "        manager.handle_keydown(event);\n",
       "    }\n",
       "}\n",
       "\n",
       "mpl.figure.prototype.handle_save = function(fig, msg) {\n",
       "    fig.ondownload(fig, null);\n",
       "}\n",
       "\n",
       "\n",
       "mpl.find_output_cell = function(html_output) {\n",
       "    // Return the cell and output element which can be found *uniquely* in the notebook.\n",
       "    // Note - this is a bit hacky, but it is done because the \"notebook_saving.Notebook\"\n",
       "    // IPython event is triggered only after the cells have been serialised, which for\n",
       "    // our purposes (turning an active figure into a static one), is too late.\n",
       "    var cells = IPython.notebook.get_cells();\n",
       "    var ncells = cells.length;\n",
       "    for (var i=0; i<ncells; i++) {\n",
       "        var cell = cells[i];\n",
       "        if (cell.cell_type === 'code'){\n",
       "            for (var j=0; j<cell.output_area.outputs.length; j++) {\n",
       "                var data = cell.output_area.outputs[j];\n",
       "                if (data.data) {\n",
       "                    // IPython >= 3 moved mimebundle to data attribute of output\n",
       "                    data = data.data;\n",
       "                }\n",
       "                if (data['text/html'] == html_output) {\n",
       "                    return [cell, data, j];\n",
       "                }\n",
       "            }\n",
       "        }\n",
       "    }\n",
       "}\n",
       "\n",
       "// Register the function which deals with the matplotlib target/channel.\n",
       "// The kernel may be null if the page has been refreshed.\n",
       "if (IPython.notebook.kernel != null) {\n",
       "    IPython.notebook.kernel.comm_manager.register_target('matplotlib', mpl.mpl_figure_comm);\n",
       "}\n"
      ],
      "text/plain": [
       "<IPython.core.display.Javascript object>"
      ]
     },
     "metadata": {},
     "output_type": "display_data"
    },
    {
     "data": {
      "text/html": [
       "<img src=\"data:image/png;base64,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\" width=\"575.8333333333334\">"
      ],
      "text/plain": [
       "<IPython.core.display.HTML object>"
      ]
     },
     "metadata": {},
     "output_type": "display_data"
    }
   ],
   "source": [
    "_ = sns.factorplot(x='Sex',col='Survived',data=titanic,kind='count')\n"
   ]
  },
  {
   "cell_type": "code",
   "execution_count": 91,
   "metadata": {
    "collapsed": true
   },
   "outputs": [],
   "source": [
    "# feature engineering\n",
    "\n",
    "titanic['FamilySize']=titanic.Parch+titanic.SibSp+1"
   ]
  },
  {
   "cell_type": "code",
   "execution_count": 93,
   "metadata": {},
   "outputs": [
    {
     "data": {
      "text/plain": [
       "U    0.774637\n",
       "C    0.071811\n",
       "B    0.049656\n",
       "D    0.035141\n",
       "E    0.031322\n",
       "A    0.016807\n",
       "F    0.016043\n",
       "G    0.003820\n",
       "T    0.000764\n",
       "Name: Cabin, dtype: float64"
      ]
     },
     "execution_count": 93,
     "metadata": {},
     "output_type": "execute_result"
    }
   ],
   "source": [
    "#cabin\n",
    "\n",
    "titanic.Cabin=titanic.Cabin.map(lambda x:x[0])\n",
    "titanic.Cabin.value_counts(normalize=True)"
   ]
  },
  {
   "cell_type": "code",
   "execution_count": 94,
   "metadata": {
    "collapsed": true
   },
   "outputs": [],
   "source": [
    "#modelling"
   ]
  },
  {
   "cell_type": "code",
   "execution_count": 95,
   "metadata": {
    "collapsed": true
   },
   "outputs": [],
   "source": [
    "titanic.Sex=titanic.Sex.map({'male':0,'female':1})\n"
   ]
  },
  {
   "cell_type": "code",
   "execution_count": 96,
   "metadata": {
    "collapsed": true
   },
   "outputs": [],
   "source": [
    "pclass_dummies = pd.get_dummies(titanic.Pclass, prefix=\"Pclass\")\n",
    "title_dummies = pd.get_dummies(titanic.Title, prefix=\"Title\")\n",
    "cabin_dummies = pd.get_dummies(titanic.Cabin, prefix=\"Cabin\")\n",
    "embarked_dummies = pd.get_dummies(titanic.Embarked, prefix=\"Embarked\")"
   ]
  },
  {
   "cell_type": "code",
   "execution_count": 97,
   "metadata": {
    "collapsed": true
   },
   "outputs": [],
   "source": [
    "#concatenating dummies\n",
    "\n",
    "titanic_dummies = pd.concat([titanic,pclass_dummies,title_dummies,cabin_dummies,embarked_dummies],axis=1)\n",
    "\n",
    "#dropping some fields\n",
    "titanic_dummies.drop(['Pclass','Title','Cabin','Embarked','Name','Ticket'],axis=1,inplace=True)\n"
   ]
  },
  {
   "cell_type": "code",
   "execution_count": 98,
   "metadata": {},
   "outputs": [
    {
     "data": {
      "text/html": [
       "<div>\n",
       "<style>\n",
       "    .dataframe thead tr:only-child th {\n",
       "        text-align: right;\n",
       "    }\n",
       "\n",
       "    .dataframe thead th {\n",
       "        text-align: left;\n",
       "    }\n",
       "\n",
       "    .dataframe tbody tr th {\n",
       "        vertical-align: top;\n",
       "    }\n",
       "</style>\n",
       "<table border=\"1\" class=\"dataframe\">\n",
       "  <thead>\n",
       "    <tr style=\"text-align: right;\">\n",
       "      <th></th>\n",
       "      <th>Age</th>\n",
       "      <th>Fare</th>\n",
       "      <th>Parch</th>\n",
       "      <th>Sex</th>\n",
       "      <th>SibSp</th>\n",
       "      <th>Survived</th>\n",
       "      <th>FamilySize</th>\n",
       "      <th>Pclass_1</th>\n",
       "      <th>Pclass_2</th>\n",
       "      <th>Pclass_3</th>\n",
       "      <th>...</th>\n",
       "      <th>Cabin_C</th>\n",
       "      <th>Cabin_D</th>\n",
       "      <th>Cabin_E</th>\n",
       "      <th>Cabin_F</th>\n",
       "      <th>Cabin_G</th>\n",
       "      <th>Cabin_T</th>\n",
       "      <th>Cabin_U</th>\n",
       "      <th>Embarked_C</th>\n",
       "      <th>Embarked_Q</th>\n",
       "      <th>Embarked_S</th>\n",
       "    </tr>\n",
       "  </thead>\n",
       "  <tbody>\n",
       "    <tr>\n",
       "      <th>0</th>\n",
       "      <td>22.0</td>\n",
       "      <td>7.2500</td>\n",
       "      <td>0</td>\n",
       "      <td>0</td>\n",
       "      <td>1</td>\n",
       "      <td>0.0</td>\n",
       "      <td>2</td>\n",
       "      <td>0</td>\n",
       "      <td>0</td>\n",
       "      <td>1</td>\n",
       "      <td>...</td>\n",
       "      <td>0</td>\n",
       "      <td>0</td>\n",
       "      <td>0</td>\n",
       "      <td>0</td>\n",
       "      <td>0</td>\n",
       "      <td>0</td>\n",
       "      <td>1</td>\n",
       "      <td>0</td>\n",
       "      <td>0</td>\n",
       "      <td>1</td>\n",
       "    </tr>\n",
       "    <tr>\n",
       "      <th>1</th>\n",
       "      <td>38.0</td>\n",
       "      <td>71.2833</td>\n",
       "      <td>0</td>\n",
       "      <td>1</td>\n",
       "      <td>1</td>\n",
       "      <td>1.0</td>\n",
       "      <td>2</td>\n",
       "      <td>1</td>\n",
       "      <td>0</td>\n",
       "      <td>0</td>\n",
       "      <td>...</td>\n",
       "      <td>1</td>\n",
       "      <td>0</td>\n",
       "      <td>0</td>\n",
       "      <td>0</td>\n",
       "      <td>0</td>\n",
       "      <td>0</td>\n",
       "      <td>0</td>\n",
       "      <td>1</td>\n",
       "      <td>0</td>\n",
       "      <td>0</td>\n",
       "    </tr>\n",
       "    <tr>\n",
       "      <th>2</th>\n",
       "      <td>26.0</td>\n",
       "      <td>7.9250</td>\n",
       "      <td>0</td>\n",
       "      <td>1</td>\n",
       "      <td>0</td>\n",
       "      <td>1.0</td>\n",
       "      <td>1</td>\n",
       "      <td>0</td>\n",
       "      <td>0</td>\n",
       "      <td>1</td>\n",
       "      <td>...</td>\n",
       "      <td>0</td>\n",
       "      <td>0</td>\n",
       "      <td>0</td>\n",
       "      <td>0</td>\n",
       "      <td>0</td>\n",
       "      <td>0</td>\n",
       "      <td>1</td>\n",
       "      <td>0</td>\n",
       "      <td>0</td>\n",
       "      <td>1</td>\n",
       "    </tr>\n",
       "    <tr>\n",
       "      <th>3</th>\n",
       "      <td>35.0</td>\n",
       "      <td>53.1000</td>\n",
       "      <td>0</td>\n",
       "      <td>1</td>\n",
       "      <td>1</td>\n",
       "      <td>1.0</td>\n",
       "      <td>2</td>\n",
       "      <td>1</td>\n",
       "      <td>0</td>\n",
       "      <td>0</td>\n",
       "      <td>...</td>\n",
       "      <td>1</td>\n",
       "      <td>0</td>\n",
       "      <td>0</td>\n",
       "      <td>0</td>\n",
       "      <td>0</td>\n",
       "      <td>0</td>\n",
       "      <td>0</td>\n",
       "      <td>0</td>\n",
       "      <td>0</td>\n",
       "      <td>1</td>\n",
       "    </tr>\n",
       "    <tr>\n",
       "      <th>4</th>\n",
       "      <td>35.0</td>\n",
       "      <td>8.0500</td>\n",
       "      <td>0</td>\n",
       "      <td>0</td>\n",
       "      <td>0</td>\n",
       "      <td>0.0</td>\n",
       "      <td>1</td>\n",
       "      <td>0</td>\n",
       "      <td>0</td>\n",
       "      <td>1</td>\n",
       "      <td>...</td>\n",
       "      <td>0</td>\n",
       "      <td>0</td>\n",
       "      <td>0</td>\n",
       "      <td>0</td>\n",
       "      <td>0</td>\n",
       "      <td>0</td>\n",
       "      <td>1</td>\n",
       "      <td>0</td>\n",
       "      <td>0</td>\n",
       "      <td>1</td>\n",
       "    </tr>\n",
       "  </tbody>\n",
       "</table>\n",
       "<p>5 rows × 28 columns</p>\n",
       "</div>"
      ],
      "text/plain": [
       "    Age     Fare  Parch  Sex  SibSp  Survived  FamilySize  Pclass_1  Pclass_2  \\\n",
       "0  22.0   7.2500      0    0      1       0.0           2         0         0   \n",
       "1  38.0  71.2833      0    1      1       1.0           2         1         0   \n",
       "2  26.0   7.9250      0    1      0       1.0           1         0         0   \n",
       "3  35.0  53.1000      0    1      1       1.0           2         1         0   \n",
       "4  35.0   8.0500      0    0      0       0.0           1         0         0   \n",
       "\n",
       "   Pclass_3     ...      Cabin_C  Cabin_D  Cabin_E  Cabin_F  Cabin_G  Cabin_T  \\\n",
       "0         1     ...            0        0        0        0        0        0   \n",
       "1         0     ...            1        0        0        0        0        0   \n",
       "2         1     ...            0        0        0        0        0        0   \n",
       "3         0     ...            1        0        0        0        0        0   \n",
       "4         1     ...            0        0        0        0        0        0   \n",
       "\n",
       "   Cabin_U  Embarked_C  Embarked_Q  Embarked_S  \n",
       "0        1           0           0           1  \n",
       "1        0           1           0           0  \n",
       "2        1           0           0           1  \n",
       "3        0           0           0           1  \n",
       "4        1           0           0           1  \n",
       "\n",
       "[5 rows x 28 columns]"
      ]
     },
     "execution_count": 98,
     "metadata": {},
     "output_type": "execute_result"
    }
   ],
   "source": [
    "titanic_dummies.head()"
   ]
  },
  {
   "cell_type": "code",
   "execution_count": 99,
   "metadata": {
    "collapsed": true
   },
   "outputs": [],
   "source": [
    "#splitting the dataSet to train and test\n",
    "\n",
    "train=titanic_dummies[:train_idx]\n",
    "test=titanic_dummies[test_idx:]\n"
   ]
  },
  {
   "cell_type": "code",
   "execution_count": 109,
   "metadata": {},
   "outputs": [
    {
     "name": "stderr",
     "output_type": "stream",
     "text": [
      "/home/qwerty/anaconda3/lib/python3.6/site-packages/pandas/core/generic.py:3110: SettingWithCopyWarning: \n",
      "A value is trying to be set on a copy of a slice from a DataFrame.\n",
      "Try using .loc[row_indexer,col_indexer] = value instead\n",
      "\n",
      "See the caveats in the documentation: http://pandas.pydata.org/pandas-docs/stable/indexing.html#indexing-view-versus-copy\n",
      "  self[name] = value\n"
     ]
    }
   ],
   "source": [
    "# convert Survived back to int\n",
    "train.Survived = train.Survived.astype(int)\n",
    "\n",
    "# create X and y for data and target values \n",
    "X = train.drop('Survived', axis=1).values \n",
    "y = train.Survived.values\n",
    "\n",
    "# create array for test set\n",
    "X_test = test.drop('Survived', axis=1).values"
   ]
  },
  {
   "cell_type": "code",
   "execution_count": 110,
   "metadata": {
    "collapsed": true
   },
   "outputs": [],
   "source": [
    "log_params=dict(C=np.logspace(-5,8,15),penalty=['l1','l2'])"
   ]
  },
  {
   "cell_type": "code",
   "execution_count": 111,
   "metadata": {
    "collapsed": true
   },
   "outputs": [],
   "source": [
    "# create param grid object \n",
    "forrest_params = dict(     \n",
    "    max_depth = [n for n in range(9, 14)],     \n",
    "    min_samples_split = [n for n in range(4, 11)], \n",
    "    min_samples_leaf = [n for n in range(2, 5)],     \n",
    "    n_estimators = [n for n in range(10, 60, 10)],\n",
    ")"
   ]
  },
  {
   "cell_type": "code",
   "execution_count": 112,
   "metadata": {
    "collapsed": true
   },
   "outputs": [],
   "source": [
    "forrest = RandomForestClassifier()"
   ]
  },
  {
   "cell_type": "code",
   "execution_count": 113,
   "metadata": {},
   "outputs": [
    {
     "data": {
      "text/plain": [
       "GridSearchCV(cv=5, error_score='raise',\n",
       "       estimator=RandomForestClassifier(bootstrap=True, class_weight=None, criterion='gini',\n",
       "            max_depth=None, max_features='auto', max_leaf_nodes=None,\n",
       "            min_impurity_decrease=0.0, min_impurity_split=None,\n",
       "            min_samples_leaf=1, min_samples_split=2,\n",
       "            min_weight_fraction_leaf=0.0, n_estimators=10, n_jobs=1,\n",
       "            oob_score=False, random_state=None, verbose=0,\n",
       "            warm_start=False),\n",
       "       fit_params=None, iid=True, n_jobs=1,\n",
       "       param_grid={'max_depth': [9, 10, 11, 12, 13], 'min_samples_split': [4, 5, 6, 7, 8, 9, 10], 'min_samples_leaf': [2, 3, 4], 'n_estimators': [10, 20, 30, 40, 50]},\n",
       "       pre_dispatch='2*n_jobs', refit=True, return_train_score='warn',\n",
       "       scoring=None, verbose=0)"
      ]
     },
     "execution_count": 113,
     "metadata": {},
     "output_type": "execute_result"
    }
   ],
   "source": [
    "# build and fit model \n",
    "forest_cv = GridSearchCV(estimator=forrest,     param_grid=forrest_params, cv=5) \n",
    "\n",
    "forest_cv.fit(X, y)\n"
   ]
  },
  {
   "cell_type": "code",
   "execution_count": 114,
   "metadata": {},
   "outputs": [
    {
     "name": "stdout",
     "output_type": "stream",
     "text": [
      "Best score: 0.8417508417508418\n",
      "Optimal params: RandomForestClassifier(bootstrap=True, class_weight=None, criterion='gini',\n",
      "            max_depth=10, max_features='auto', max_leaf_nodes=None,\n",
      "            min_impurity_decrease=0.0, min_impurity_split=None,\n",
      "            min_samples_leaf=3, min_samples_split=7,\n",
      "            min_weight_fraction_leaf=0.0, n_estimators=10, n_jobs=1,\n",
      "            oob_score=False, random_state=None, verbose=0,\n",
      "            warm_start=False)\n"
     ]
    }
   ],
   "source": [
    "print(\"Best score: {}\".format(forest_cv.best_score_))\n",
    "print(\"Optimal params: {}\".format(forest_cv.best_estimator_))"
   ]
  },
  {
   "cell_type": "code",
   "execution_count": 115,
   "metadata": {
    "collapsed": true
   },
   "outputs": [],
   "source": [
    "# random forrest prediction on test set\n",
    "forrest_pred = forest_cv.predict(X_test)"
   ]
  },
  {
   "cell_type": "code",
   "execution_count": 117,
   "metadata": {
    "collapsed": true
   },
   "outputs": [],
   "source": [
    "# dataframe with predictions\n",
    "kaggle = pd.DataFrame({'PassengerId': passengerId, 'Survived': forrest_pred})\n",
    "\n",
    "# save to csv\n",
    "kaggle.to_csv('titanic_pred.csv', index=False)"
   ]
  },
  {
   "cell_type": "code",
   "execution_count": null,
   "metadata": {
    "collapsed": true
   },
   "outputs": [],
   "source": []
  }
 ],
 "metadata": {
  "kernelspec": {
   "display_name": "Python 3",
   "language": "python",
   "name": "python3"
  },
  "language_info": {
   "codemirror_mode": {
    "name": "ipython",
    "version": 3
   },
   "file_extension": ".py",
   "mimetype": "text/x-python",
   "name": "python",
   "nbconvert_exporter": "python",
   "pygments_lexer": "ipython3",
   "version": "3.6.3"
  }
 },
 "nbformat": 4,
 "nbformat_minor": 2
}
