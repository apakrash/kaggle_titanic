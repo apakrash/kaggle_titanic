{
 "cells": [
  {
   "cell_type": "markdown",
   "metadata": {
    "collapsed": true
   },
   "source": [
    "# The Titanic Problem"
   ]
  },
  {
   "cell_type": "markdown",
   "metadata": {},
   "source": [
    "## loading all libraries"
   ]
  },
  {
   "cell_type": "code",
   "execution_count": 1,
   "metadata": {
    "collapsed": true
   },
   "outputs": [],
   "source": [
    "from sklearn.linear_model import LogisticRegression\n",
    "from sklearn.ensemble import RandomForestClassifier\n",
    "from sklearn.model_selection import GridSearchCV\n",
    "\n",
    "import pandas as pd\n",
    "import numpy as np\n",
    "import matplotlib.pyplot as plt\n",
    "plt.style.use('ggplot')\n",
    "%matplotlib notebook\n",
    "\n",
    "import seaborn as sns\n",
    "sns.set()\n",
    "\n"
   ]
  },
  {
   "cell_type": "code",
   "execution_count": 2,
   "metadata": {
    "collapsed": true
   },
   "outputs": [],
   "source": [
    "#loading data\n",
    "\n",
    "train=pd.read_csv('train.csv')\n",
    "test=pd.read_csv('test.csv')"
   ]
  },
  {
   "cell_type": "code",
   "execution_count": 3,
   "metadata": {},
   "outputs": [
    {
     "data": {
      "text/html": [
       "<div>\n",
       "<style>\n",
       "    .dataframe thead tr:only-child th {\n",
       "        text-align: right;\n",
       "    }\n",
       "\n",
       "    .dataframe thead th {\n",
       "        text-align: left;\n",
       "    }\n",
       "\n",
       "    .dataframe tbody tr th {\n",
       "        vertical-align: top;\n",
       "    }\n",
       "</style>\n",
       "<table border=\"1\" class=\"dataframe\">\n",
       "  <thead>\n",
       "    <tr style=\"text-align: right;\">\n",
       "      <th></th>\n",
       "      <th>PassengerId</th>\n",
       "      <th>Survived</th>\n",
       "      <th>Pclass</th>\n",
       "      <th>Name</th>\n",
       "      <th>Sex</th>\n",
       "      <th>Age</th>\n",
       "      <th>SibSp</th>\n",
       "      <th>Parch</th>\n",
       "      <th>Ticket</th>\n",
       "      <th>Fare</th>\n",
       "      <th>Cabin</th>\n",
       "      <th>Embarked</th>\n",
       "    </tr>\n",
       "  </thead>\n",
       "  <tbody>\n",
       "    <tr>\n",
       "      <th>0</th>\n",
       "      <td>1</td>\n",
       "      <td>0</td>\n",
       "      <td>3</td>\n",
       "      <td>Braund, Mr. Owen Harris</td>\n",
       "      <td>male</td>\n",
       "      <td>22.0</td>\n",
       "      <td>1</td>\n",
       "      <td>0</td>\n",
       "      <td>A/5 21171</td>\n",
       "      <td>7.2500</td>\n",
       "      <td>NaN</td>\n",
       "      <td>S</td>\n",
       "    </tr>\n",
       "    <tr>\n",
       "      <th>1</th>\n",
       "      <td>2</td>\n",
       "      <td>1</td>\n",
       "      <td>1</td>\n",
       "      <td>Cumings, Mrs. John Bradley (Florence Briggs Th...</td>\n",
       "      <td>female</td>\n",
       "      <td>38.0</td>\n",
       "      <td>1</td>\n",
       "      <td>0</td>\n",
       "      <td>PC 17599</td>\n",
       "      <td>71.2833</td>\n",
       "      <td>C85</td>\n",
       "      <td>C</td>\n",
       "    </tr>\n",
       "    <tr>\n",
       "      <th>2</th>\n",
       "      <td>3</td>\n",
       "      <td>1</td>\n",
       "      <td>3</td>\n",
       "      <td>Heikkinen, Miss. Laina</td>\n",
       "      <td>female</td>\n",
       "      <td>26.0</td>\n",
       "      <td>0</td>\n",
       "      <td>0</td>\n",
       "      <td>STON/O2. 3101282</td>\n",
       "      <td>7.9250</td>\n",
       "      <td>NaN</td>\n",
       "      <td>S</td>\n",
       "    </tr>\n",
       "    <tr>\n",
       "      <th>3</th>\n",
       "      <td>4</td>\n",
       "      <td>1</td>\n",
       "      <td>1</td>\n",
       "      <td>Futrelle, Mrs. Jacques Heath (Lily May Peel)</td>\n",
       "      <td>female</td>\n",
       "      <td>35.0</td>\n",
       "      <td>1</td>\n",
       "      <td>0</td>\n",
       "      <td>113803</td>\n",
       "      <td>53.1000</td>\n",
       "      <td>C123</td>\n",
       "      <td>S</td>\n",
       "    </tr>\n",
       "    <tr>\n",
       "      <th>4</th>\n",
       "      <td>5</td>\n",
       "      <td>0</td>\n",
       "      <td>3</td>\n",
       "      <td>Allen, Mr. William Henry</td>\n",
       "      <td>male</td>\n",
       "      <td>35.0</td>\n",
       "      <td>0</td>\n",
       "      <td>0</td>\n",
       "      <td>373450</td>\n",
       "      <td>8.0500</td>\n",
       "      <td>NaN</td>\n",
       "      <td>S</td>\n",
       "    </tr>\n",
       "  </tbody>\n",
       "</table>\n",
       "</div>"
      ],
      "text/plain": [
       "   PassengerId  Survived  Pclass  \\\n",
       "0            1         0       3   \n",
       "1            2         1       1   \n",
       "2            3         1       3   \n",
       "3            4         1       1   \n",
       "4            5         0       3   \n",
       "\n",
       "                                                Name     Sex   Age  SibSp  \\\n",
       "0                            Braund, Mr. Owen Harris    male  22.0      1   \n",
       "1  Cumings, Mrs. John Bradley (Florence Briggs Th...  female  38.0      1   \n",
       "2                             Heikkinen, Miss. Laina  female  26.0      0   \n",
       "3       Futrelle, Mrs. Jacques Heath (Lily May Peel)  female  35.0      1   \n",
       "4                           Allen, Mr. William Henry    male  35.0      0   \n",
       "\n",
       "   Parch            Ticket     Fare Cabin Embarked  \n",
       "0      0         A/5 21171   7.2500   NaN        S  \n",
       "1      0          PC 17599  71.2833   C85        C  \n",
       "2      0  STON/O2. 3101282   7.9250   NaN        S  \n",
       "3      0            113803  53.1000  C123        S  \n",
       "4      0            373450   8.0500   NaN        S  "
      ]
     },
     "execution_count": 3,
     "metadata": {},
     "output_type": "execute_result"
    }
   ],
   "source": [
    "# checking how the training Set looks like\n",
    "\n",
    "train.head()"
   ]
  },
  {
   "cell_type": "code",
   "execution_count": 4,
   "metadata": {
    "collapsed": true
   },
   "outputs": [],
   "source": [
    "# saving the PasserengerId for submission\n",
    "\n",
    "passengerId=test.PassengerId"
   ]
  },
  {
   "cell_type": "code",
   "execution_count": 5,
   "metadata": {
    "collapsed": true
   },
   "outputs": [],
   "source": [
    "# merge train and test, so that the missing spaces can be filled at once.\n",
    "\n",
    "titanic=train.append(test,ignore_index=True)\n",
    "\n",
    "train_idx=len(train)\n",
    "test_idx=len(titanic)-len(test)"
   ]
  },
  {
   "cell_type": "code",
   "execution_count": 6,
   "metadata": {},
   "outputs": [
    {
     "data": {
      "text/html": [
       "<div>\n",
       "<style>\n",
       "    .dataframe thead tr:only-child th {\n",
       "        text-align: right;\n",
       "    }\n",
       "\n",
       "    .dataframe thead th {\n",
       "        text-align: left;\n",
       "    }\n",
       "\n",
       "    .dataframe tbody tr th {\n",
       "        vertical-align: top;\n",
       "    }\n",
       "</style>\n",
       "<table border=\"1\" class=\"dataframe\">\n",
       "  <thead>\n",
       "    <tr style=\"text-align: right;\">\n",
       "      <th></th>\n",
       "      <th>Age</th>\n",
       "      <th>Cabin</th>\n",
       "      <th>Embarked</th>\n",
       "      <th>Fare</th>\n",
       "      <th>Name</th>\n",
       "      <th>Parch</th>\n",
       "      <th>PassengerId</th>\n",
       "      <th>Pclass</th>\n",
       "      <th>Sex</th>\n",
       "      <th>SibSp</th>\n",
       "      <th>Survived</th>\n",
       "      <th>Ticket</th>\n",
       "    </tr>\n",
       "  </thead>\n",
       "  <tbody>\n",
       "    <tr>\n",
       "      <th>0</th>\n",
       "      <td>22.0</td>\n",
       "      <td>NaN</td>\n",
       "      <td>S</td>\n",
       "      <td>7.2500</td>\n",
       "      <td>Braund, Mr. Owen Harris</td>\n",
       "      <td>0</td>\n",
       "      <td>1</td>\n",
       "      <td>3</td>\n",
       "      <td>male</td>\n",
       "      <td>1</td>\n",
       "      <td>0.0</td>\n",
       "      <td>A/5 21171</td>\n",
       "    </tr>\n",
       "    <tr>\n",
       "      <th>1</th>\n",
       "      <td>38.0</td>\n",
       "      <td>C85</td>\n",
       "      <td>C</td>\n",
       "      <td>71.2833</td>\n",
       "      <td>Cumings, Mrs. John Bradley (Florence Briggs Th...</td>\n",
       "      <td>0</td>\n",
       "      <td>2</td>\n",
       "      <td>1</td>\n",
       "      <td>female</td>\n",
       "      <td>1</td>\n",
       "      <td>1.0</td>\n",
       "      <td>PC 17599</td>\n",
       "    </tr>\n",
       "    <tr>\n",
       "      <th>2</th>\n",
       "      <td>26.0</td>\n",
       "      <td>NaN</td>\n",
       "      <td>S</td>\n",
       "      <td>7.9250</td>\n",
       "      <td>Heikkinen, Miss. Laina</td>\n",
       "      <td>0</td>\n",
       "      <td>3</td>\n",
       "      <td>3</td>\n",
       "      <td>female</td>\n",
       "      <td>0</td>\n",
       "      <td>1.0</td>\n",
       "      <td>STON/O2. 3101282</td>\n",
       "    </tr>\n",
       "    <tr>\n",
       "      <th>3</th>\n",
       "      <td>35.0</td>\n",
       "      <td>C123</td>\n",
       "      <td>S</td>\n",
       "      <td>53.1000</td>\n",
       "      <td>Futrelle, Mrs. Jacques Heath (Lily May Peel)</td>\n",
       "      <td>0</td>\n",
       "      <td>4</td>\n",
       "      <td>1</td>\n",
       "      <td>female</td>\n",
       "      <td>1</td>\n",
       "      <td>1.0</td>\n",
       "      <td>113803</td>\n",
       "    </tr>\n",
       "    <tr>\n",
       "      <th>4</th>\n",
       "      <td>35.0</td>\n",
       "      <td>NaN</td>\n",
       "      <td>S</td>\n",
       "      <td>8.0500</td>\n",
       "      <td>Allen, Mr. William Henry</td>\n",
       "      <td>0</td>\n",
       "      <td>5</td>\n",
       "      <td>3</td>\n",
       "      <td>male</td>\n",
       "      <td>0</td>\n",
       "      <td>0.0</td>\n",
       "      <td>373450</td>\n",
       "    </tr>\n",
       "  </tbody>\n",
       "</table>\n",
       "</div>"
      ],
      "text/plain": [
       "    Age Cabin Embarked     Fare  \\\n",
       "0  22.0   NaN        S   7.2500   \n",
       "1  38.0   C85        C  71.2833   \n",
       "2  26.0   NaN        S   7.9250   \n",
       "3  35.0  C123        S  53.1000   \n",
       "4  35.0   NaN        S   8.0500   \n",
       "\n",
       "                                                Name  Parch  PassengerId  \\\n",
       "0                            Braund, Mr. Owen Harris      0            1   \n",
       "1  Cumings, Mrs. John Bradley (Florence Briggs Th...      0            2   \n",
       "2                             Heikkinen, Miss. Laina      0            3   \n",
       "3       Futrelle, Mrs. Jacques Heath (Lily May Peel)      0            4   \n",
       "4                           Allen, Mr. William Henry      0            5   \n",
       "\n",
       "   Pclass     Sex  SibSp  Survived            Ticket  \n",
       "0       3    male      1       0.0         A/5 21171  \n",
       "1       1  female      1       1.0          PC 17599  \n",
       "2       3  female      0       1.0  STON/O2. 3101282  \n",
       "3       1  female      1       1.0            113803  \n",
       "4       3    male      0       0.0            373450  "
      ]
     },
     "execution_count": 6,
     "metadata": {},
     "output_type": "execute_result"
    }
   ],
   "source": [
    "titanic.head()"
   ]
  },
  {
   "cell_type": "code",
   "execution_count": 7,
   "metadata": {},
   "outputs": [
    {
     "name": "stdout",
     "output_type": "stream",
     "text": [
      "<class 'pandas.core.frame.DataFrame'>\n",
      "RangeIndex: 1309 entries, 0 to 1308\n",
      "Data columns (total 12 columns):\n",
      "Age            1046 non-null float64\n",
      "Cabin          295 non-null object\n",
      "Embarked       1307 non-null object\n",
      "Fare           1308 non-null float64\n",
      "Name           1309 non-null object\n",
      "Parch          1309 non-null int64\n",
      "PassengerId    1309 non-null int64\n",
      "Pclass         1309 non-null int64\n",
      "Sex            1309 non-null object\n",
      "SibSp          1309 non-null int64\n",
      "Survived       891 non-null float64\n",
      "Ticket         1309 non-null object\n",
      "dtypes: float64(3), int64(4), object(5)\n",
      "memory usage: 122.8+ KB\n"
     ]
    }
   ],
   "source": [
    "titanic.info()"
   ]
  },
  {
   "cell_type": "code",
   "execution_count": 8,
   "metadata": {},
   "outputs": [
    {
     "name": "stdout",
     "output_type": "stream",
     "text": [
      "Age             263\n",
      "Cabin          1014\n",
      "Embarked          2\n",
      "Fare              1\n",
      "Name              0\n",
      "Parch             0\n",
      "PassengerId       0\n",
      "Pclass            0\n",
      "Sex               0\n",
      "SibSp             0\n",
      "Survived        418\n",
      "Ticket            0\n",
      "dtype: int64\n"
     ]
    }
   ],
   "source": [
    "#To check if any column has null\n",
    "print(titanic.isnull().sum())\n",
    "#To get those columns:\n",
    "#print(titanic[titanic.isnull().T.any().T])\n"
   ]
  },
  {
   "cell_type": "code",
   "execution_count": 9,
   "metadata": {
    "collapsed": true
   },
   "outputs": [],
   "source": [
    "# since this will not be used for any training.\n",
    "titanic.drop('PassengerId',axis=1,inplace=True)"
   ]
  },
  {
   "cell_type": "code",
   "execution_count": 10,
   "metadata": {},
   "outputs": [
    {
     "data": {
      "text/plain": [
       "Index(['Age', 'Cabin', 'Embarked', 'Fare', 'Name', 'Parch', 'Pclass', 'Sex',\n",
       "       'SibSp', 'Survived', 'Ticket'],\n",
       "      dtype='object')"
      ]
     },
     "execution_count": 10,
     "metadata": {},
     "output_type": "execute_result"
    }
   ],
   "source": [
    "# to verify that PassengerId is gone, sorry old habit :)\n",
    "titanic.keys()"
   ]
  },
  {
   "cell_type": "code",
   "execution_count": 11,
   "metadata": {},
   "outputs": [
    {
     "data": {
      "text/html": [
       "<div>\n",
       "<style>\n",
       "    .dataframe thead tr:only-child th {\n",
       "        text-align: right;\n",
       "    }\n",
       "\n",
       "    .dataframe thead th {\n",
       "        text-align: left;\n",
       "    }\n",
       "\n",
       "    .dataframe tbody tr th {\n",
       "        vertical-align: top;\n",
       "    }\n",
       "</style>\n",
       "<table border=\"1\" class=\"dataframe\">\n",
       "  <thead>\n",
       "    <tr style=\"text-align: right;\">\n",
       "      <th></th>\n",
       "      <th>Age</th>\n",
       "      <th>Cabin</th>\n",
       "      <th>Embarked</th>\n",
       "      <th>Fare</th>\n",
       "      <th>Name</th>\n",
       "      <th>Parch</th>\n",
       "      <th>Pclass</th>\n",
       "      <th>Sex</th>\n",
       "      <th>SibSp</th>\n",
       "      <th>Survived</th>\n",
       "      <th>Ticket</th>\n",
       "      <th>Title</th>\n",
       "    </tr>\n",
       "  </thead>\n",
       "  <tbody>\n",
       "    <tr>\n",
       "      <th>0</th>\n",
       "      <td>22.0</td>\n",
       "      <td>NaN</td>\n",
       "      <td>S</td>\n",
       "      <td>7.2500</td>\n",
       "      <td>Braund, Mr. Owen Harris</td>\n",
       "      <td>0</td>\n",
       "      <td>3</td>\n",
       "      <td>male</td>\n",
       "      <td>1</td>\n",
       "      <td>0.0</td>\n",
       "      <td>A/5 21171</td>\n",
       "      <td>Mr</td>\n",
       "    </tr>\n",
       "    <tr>\n",
       "      <th>1</th>\n",
       "      <td>38.0</td>\n",
       "      <td>C85</td>\n",
       "      <td>C</td>\n",
       "      <td>71.2833</td>\n",
       "      <td>Cumings, Mrs. John Bradley (Florence Briggs Th...</td>\n",
       "      <td>0</td>\n",
       "      <td>1</td>\n",
       "      <td>female</td>\n",
       "      <td>1</td>\n",
       "      <td>1.0</td>\n",
       "      <td>PC 17599</td>\n",
       "      <td>Mrs</td>\n",
       "    </tr>\n",
       "    <tr>\n",
       "      <th>2</th>\n",
       "      <td>26.0</td>\n",
       "      <td>NaN</td>\n",
       "      <td>S</td>\n",
       "      <td>7.9250</td>\n",
       "      <td>Heikkinen, Miss. Laina</td>\n",
       "      <td>0</td>\n",
       "      <td>3</td>\n",
       "      <td>female</td>\n",
       "      <td>0</td>\n",
       "      <td>1.0</td>\n",
       "      <td>STON/O2. 3101282</td>\n",
       "      <td>Miss</td>\n",
       "    </tr>\n",
       "    <tr>\n",
       "      <th>3</th>\n",
       "      <td>35.0</td>\n",
       "      <td>C123</td>\n",
       "      <td>S</td>\n",
       "      <td>53.1000</td>\n",
       "      <td>Futrelle, Mrs. Jacques Heath (Lily May Peel)</td>\n",
       "      <td>0</td>\n",
       "      <td>1</td>\n",
       "      <td>female</td>\n",
       "      <td>1</td>\n",
       "      <td>1.0</td>\n",
       "      <td>113803</td>\n",
       "      <td>Mrs</td>\n",
       "    </tr>\n",
       "    <tr>\n",
       "      <th>4</th>\n",
       "      <td>35.0</td>\n",
       "      <td>NaN</td>\n",
       "      <td>S</td>\n",
       "      <td>8.0500</td>\n",
       "      <td>Allen, Mr. William Henry</td>\n",
       "      <td>0</td>\n",
       "      <td>3</td>\n",
       "      <td>male</td>\n",
       "      <td>0</td>\n",
       "      <td>0.0</td>\n",
       "      <td>373450</td>\n",
       "      <td>Mr</td>\n",
       "    </tr>\n",
       "  </tbody>\n",
       "</table>\n",
       "</div>"
      ],
      "text/plain": [
       "    Age Cabin Embarked     Fare  \\\n",
       "0  22.0   NaN        S   7.2500   \n",
       "1  38.0   C85        C  71.2833   \n",
       "2  26.0   NaN        S   7.9250   \n",
       "3  35.0  C123        S  53.1000   \n",
       "4  35.0   NaN        S   8.0500   \n",
       "\n",
       "                                                Name  Parch  Pclass     Sex  \\\n",
       "0                            Braund, Mr. Owen Harris      0       3    male   \n",
       "1  Cumings, Mrs. John Bradley (Florence Briggs Th...      0       1  female   \n",
       "2                             Heikkinen, Miss. Laina      0       3  female   \n",
       "3       Futrelle, Mrs. Jacques Heath (Lily May Peel)      0       1  female   \n",
       "4                           Allen, Mr. William Henry      0       3    male   \n",
       "\n",
       "   SibSp  Survived            Ticket Title  \n",
       "0      1       0.0         A/5 21171    Mr  \n",
       "1      1       1.0          PC 17599   Mrs  \n",
       "2      0       1.0  STON/O2. 3101282  Miss  \n",
       "3      1       1.0            113803   Mrs  \n",
       "4      0       0.0            373450    Mr  "
      ]
     },
     "execution_count": 11,
     "metadata": {},
     "output_type": "execute_result"
    }
   ],
   "source": [
    "#creating title for feature engineering\n",
    "\n",
    "titanic['Title']=titanic.Name.apply(lambda name:name.split(',')[1].split('.')[0].strip())\n",
    "\n",
    "titanic.head()"
   ]
  },
  {
   "cell_type": "code",
   "execution_count": 12,
   "metadata": {},
   "outputs": [
    {
     "name": "stdout",
     "output_type": "stream",
     "text": [
      "['Mr' 'Mrs' 'Miss' 'Master' 'Don' 'Rev' 'Dr' 'Mme' 'Ms' 'Major' 'Lady'\n",
      " 'Sir' 'Mlle' 'Col' 'Capt' 'the Countess' 'Jonkheer' 'Dona']\n"
     ]
    }
   ],
   "source": [
    "print(titanic.Title.unique())"
   ]
  },
  {
   "cell_type": "code",
   "execution_count": 13,
   "metadata": {
    "collapsed": true
   },
   "outputs": [],
   "source": [
    "# normalize the titles\n",
    "normalized_titles = {\n",
    "    \"Capt\":       \"Officer\",\n",
    "    \"Col\":        \"Officer\",\n",
    "    \"Major\":      \"Officer\",\n",
    "    \"Jonkheer\":   \"Royalty\",\n",
    "    \"Don\":        \"Royalty\",\n",
    "    \"Sir\" :       \"Royalty\",\n",
    "    \"Dr\":         \"Officer\",\n",
    "    \"Rev\":        \"Officer\",\n",
    "    \"the Countess\":\"Royalty\",\n",
    "    \"Dona\":       \"Royalty\",\n",
    "    \"Mme\":        \"Mrs\",\n",
    "    \"Mlle\":       \"Miss\",\n",
    "    \"Ms\":         \"Mrs\",\n",
    "    \"Mr\" :        \"Mr\",\n",
    "    \"Mrs\" :       \"Mrs\",\n",
    "    \"Miss\" :      \"Miss\",\n",
    "    \"Master\" :    \"Master\",\n",
    "    \"Lady\" :      \"Royalty\"\n",
    "}"
   ]
  },
  {
   "cell_type": "code",
   "execution_count": 14,
   "metadata": {
    "collapsed": true
   },
   "outputs": [],
   "source": [
    "# mapping to the normalized titles using the above defined dictionary\n",
    "\n",
    "titanic.Title=titanic.Title.map(normalized_titles)"
   ]
  },
  {
   "cell_type": "code",
   "execution_count": 15,
   "metadata": {},
   "outputs": [
    {
     "data": {
      "text/plain": [
       "Mr         757\n",
       "Miss       262\n",
       "Mrs        200\n",
       "Master      61\n",
       "Officer     23\n",
       "Royalty      6\n",
       "Name: Title, dtype: int64"
      ]
     },
     "execution_count": 15,
     "metadata": {},
     "output_type": "execute_result"
    }
   ],
   "source": [
    "titanic.Title.value_counts()"
   ]
  },
  {
   "cell_type": "code",
   "execution_count": 16,
   "metadata": {},
   "outputs": [
    {
     "data": {
      "text/plain": [
       "Index(['Age', 'Cabin', 'Embarked', 'Fare', 'Name', 'Parch', 'Pclass', 'Sex',\n",
       "       'SibSp', 'Survived', 'Ticket', 'Title'],\n",
       "      dtype='object')"
      ]
     },
     "execution_count": 16,
     "metadata": {},
     "output_type": "execute_result"
    }
   ],
   "source": [
    "titanic.keys()"
   ]
  },
  {
   "cell_type": "code",
   "execution_count": 17,
   "metadata": {},
   "outputs": [
    {
     "ename": "NameError",
     "evalue": "name 'grouped' is not defined",
     "output_type": "error",
     "traceback": [
      "\u001b[0;31m---------------------------------------------------------------------------\u001b[0m",
      "\u001b[0;31mNameError\u001b[0m                                 Traceback (most recent call last)",
      "\u001b[0;32m<ipython-input-17-ff2e8f66139e>\u001b[0m in \u001b[0;36m<module>\u001b[0;34m()\u001b[0m\n\u001b[0;32m----> 1\u001b[0;31m \u001b[0mgrouped\u001b[0m\u001b[0;34m.\u001b[0m\u001b[0mAge\u001b[0m\u001b[0;34m.\u001b[0m\u001b[0mmedian\u001b[0m\u001b[0;34m(\u001b[0m\u001b[0;34m)\u001b[0m\u001b[0;34m\u001b[0m\u001b[0m\n\u001b[0m",
      "\u001b[0;31mNameError\u001b[0m: name 'grouped' is not defined"
     ]
    }
   ],
   "source": [
    "grouped.Age.median()"
   ]
  },
  {
   "cell_type": "code",
   "execution_count": 18,
   "metadata": {},
   "outputs": [
    {
     "ename": "NameError",
     "evalue": "name 'grouped' is not defined",
     "output_type": "error",
     "traceback": [
      "\u001b[0;31m---------------------------------------------------------------------------\u001b[0m",
      "\u001b[0;31mNameError\u001b[0m                                 Traceback (most recent call last)",
      "\u001b[0;32m<ipython-input-18-b65cb486a9fc>\u001b[0m in \u001b[0;36m<module>\u001b[0;34m()\u001b[0m\n\u001b[1;32m      1\u001b[0m \u001b[0;31m# apply group median to Age NaN\u001b[0m\u001b[0;34m\u001b[0m\u001b[0;34m\u001b[0m\u001b[0m\n\u001b[1;32m      2\u001b[0m \u001b[0;34m\u001b[0m\u001b[0m\n\u001b[0;32m----> 3\u001b[0;31m \u001b[0mtitanic\u001b[0m\u001b[0;34m.\u001b[0m\u001b[0mAge\u001b[0m\u001b[0;34m=\u001b[0m\u001b[0mgrouped\u001b[0m\u001b[0;34m.\u001b[0m\u001b[0mAge\u001b[0m\u001b[0;34m.\u001b[0m\u001b[0mapply\u001b[0m\u001b[0;34m(\u001b[0m\u001b[0;32mlambda\u001b[0m \u001b[0mx\u001b[0m\u001b[0;34m:\u001b[0m \u001b[0mx\u001b[0m\u001b[0;34m.\u001b[0m\u001b[0mfillna\u001b[0m\u001b[0;34m(\u001b[0m\u001b[0mx\u001b[0m\u001b[0;34m.\u001b[0m\u001b[0mmedian\u001b[0m\u001b[0;34m(\u001b[0m\u001b[0;34m)\u001b[0m\u001b[0;34m)\u001b[0m\u001b[0;34m)\u001b[0m\u001b[0;34m\u001b[0m\u001b[0m\n\u001b[0m",
      "\u001b[0;31mNameError\u001b[0m: name 'grouped' is not defined"
     ]
    }
   ],
   "source": [
    "# apply group median to Age NaN\n",
    "\n",
    "titanic.Age=grouped.Age.apply(lambda x: x.fillna(x.median()))"
   ]
  },
  {
   "cell_type": "code",
   "execution_count": 19,
   "metadata": {},
   "outputs": [
    {
     "data": {
      "text/plain": [
       "Age          263\n",
       "Cabin       1014\n",
       "Embarked       2\n",
       "Fare           1\n",
       "Name           0\n",
       "Parch          0\n",
       "Pclass         0\n",
       "Sex            0\n",
       "SibSp          0\n",
       "Survived     418\n",
       "Ticket         0\n",
       "Title          0\n",
       "dtype: int64"
      ]
     },
     "execution_count": 19,
     "metadata": {},
     "output_type": "execute_result"
    }
   ],
   "source": [
    "titanic.isnull().sum()"
   ]
  },
  {
   "cell_type": "code",
   "execution_count": 20,
   "metadata": {
    "collapsed": true
   },
   "outputs": [],
   "source": [
    "# filling cabin with 'U'\n",
    "\n",
    "titanic.Cabin=titanic.Cabin.fillna('U')"
   ]
  },
  {
   "cell_type": "code",
   "execution_count": 21,
   "metadata": {},
   "outputs": [
    {
     "data": {
      "text/plain": [
       "Age         263\n",
       "Cabin         0\n",
       "Embarked      2\n",
       "Fare          1\n",
       "Name          0\n",
       "Parch         0\n",
       "Pclass        0\n",
       "Sex           0\n",
       "SibSp         0\n",
       "Survived    418\n",
       "Ticket        0\n",
       "Title         0\n",
       "dtype: int64"
      ]
     },
     "execution_count": 21,
     "metadata": {},
     "output_type": "execute_result"
    }
   ],
   "source": [
    "titanic.isnull().sum()"
   ]
  },
  {
   "cell_type": "code",
   "execution_count": 22,
   "metadata": {},
   "outputs": [
    {
     "data": {
      "text/plain": [
       "S    0.699311\n",
       "C    0.206580\n",
       "Q    0.094109\n",
       "Name: Embarked, dtype: float64"
      ]
     },
     "execution_count": 22,
     "metadata": {},
     "output_type": "execute_result"
    }
   ],
   "source": [
    "#checking the percentage frequency of the column\n",
    "titanic.Embarked.value_counts(normalize=True)\n"
   ]
  },
  {
   "cell_type": "code",
   "execution_count": 23,
   "metadata": {},
   "outputs": [
    {
     "name": "stdout",
     "output_type": "stream",
     "text": [
      "S\n"
     ]
    }
   ],
   "source": [
    "#filling it with 'S' since it has filled 70%\n",
    "\n",
    "most_embarked=titanic.Embarked.value_counts().index[0]\n",
    "print(most_embarked)"
   ]
  },
  {
   "cell_type": "code",
   "execution_count": 29,
   "metadata": {
    "collapsed": true
   },
   "outputs": [],
   "source": [
    "#so, no point in moving it to median, hence filling NaN with the most embarked value\n",
    "\n",
    "titanic.Embarked=titanic.Embarked.fillna(most_embarked)"
   ]
  },
  {
   "cell_type": "code",
   "execution_count": 30,
   "metadata": {},
   "outputs": [
    {
     "data": {
      "text/plain": [
       "Age         263\n",
       "Cabin         0\n",
       "Embarked      0\n",
       "Fare          0\n",
       "Name          0\n",
       "Parch         0\n",
       "Pclass        0\n",
       "Sex           0\n",
       "SibSp         0\n",
       "Survived    418\n",
       "Ticket        0\n",
       "Title         0\n",
       "dtype: int64"
      ]
     },
     "execution_count": 30,
     "metadata": {},
     "output_type": "execute_result"
    }
   ],
   "source": [
    "titanic.isnull().sum()"
   ]
  },
  {
   "cell_type": "code",
   "execution_count": 31,
   "metadata": {
    "collapsed": true
   },
   "outputs": [],
   "source": [
    "# fare, filling NaN\n",
    "\n",
    "titanic.Fare=titanic.Fare.fillna(titanic.Fare.median())"
   ]
  },
  {
   "cell_type": "code",
   "execution_count": 32,
   "metadata": {},
   "outputs": [
    {
     "data": {
      "text/plain": [
       "Age         263\n",
       "Cabin         0\n",
       "Embarked      0\n",
       "Fare          0\n",
       "Name          0\n",
       "Parch         0\n",
       "Pclass        0\n",
       "Sex           0\n",
       "SibSp         0\n",
       "Survived    418\n",
       "Ticket        0\n",
       "Title         0\n",
       "dtype: int64"
      ]
     },
     "execution_count": 32,
     "metadata": {},
     "output_type": "execute_result"
    }
   ],
   "source": [
    "titanic.isnull().sum()"
   ]
  },
  {
   "cell_type": "code",
   "execution_count": 33,
   "metadata": {},
   "outputs": [
    {
     "data": {
      "text/plain": [
       "0.0    549\n",
       "1.0    342\n",
       "Name: Survived, dtype: int64"
      ]
     },
     "execution_count": 33,
     "metadata": {},
     "output_type": "execute_result"
    }
   ],
   "source": [
    "# Checking the data further\n",
    "\n",
    "\n",
    "titanic.Survived.value_counts()"
   ]
  },
  {
   "cell_type": "code",
   "execution_count": 80,
   "metadata": {},
   "outputs": [
    {
     "data": {
      "text/plain": [
       "0.0    0.616162\n",
       "1.0    0.383838\n",
       "Name: Survived, dtype: float64"
      ]
     },
     "execution_count": 80,
     "metadata": {},
     "output_type": "execute_result"
    }
   ],
   "source": [
    "titanic.Survived.value_counts(normalize=True)"
   ]
  },
  {
   "cell_type": "code",
   "execution_count": 36,
   "metadata": {
    "collapsed": true
   },
   "outputs": [],
   "source": [
    "# checking grouping by Sex\n",
    "\n",
    "group_by_sex=titanic.groupby('Sex').Survived.mean()"
   ]
  },
  {
   "cell_type": "code",
   "execution_count": 37,
   "metadata": {},
   "outputs": [
    {
     "data": {
      "text/plain": [
       "Sex\n",
       "female    0.742038\n",
       "male      0.188908\n",
       "Name: Survived, dtype: float64"
      ]
     },
     "execution_count": 37,
     "metadata": {},
     "output_type": "execute_result"
    }
   ],
   "source": [
    "group_by_sex"
   ]
  },
  {
   "cell_type": "code",
   "execution_count": 38,
   "metadata": {
    "collapsed": true
   },
   "outputs": [],
   "source": [
    "group_class_sex=titanic.groupby(['Pclass','Sex']).Survived.mean()"
   ]
  },
  {
   "cell_type": "code",
   "execution_count": 39,
   "metadata": {},
   "outputs": [
    {
     "data": {
      "text/plain": [
       "Pclass  Sex   \n",
       "1       female    0.968085\n",
       "        male      0.368852\n",
       "2       female    0.921053\n",
       "        male      0.157407\n",
       "3       female    0.500000\n",
       "        male      0.135447\n",
       "Name: Survived, dtype: float64"
      ]
     },
     "execution_count": 39,
     "metadata": {},
     "output_type": "execute_result"
    }
   ],
   "source": [
    "group_class_sex"
   ]
  },
  {
   "cell_type": "code",
   "execution_count": 40,
   "metadata": {},
   "outputs": [
    {
     "data": {
      "application/javascript": [
       "/* Put everything inside the global mpl namespace */\n",
       "window.mpl = {};\n",
       "\n",
       "\n",
       "mpl.get_websocket_type = function() {\n",
       "    if (typeof(WebSocket) !== 'undefined') {\n",
       "        return WebSocket;\n",
       "    } else if (typeof(MozWebSocket) !== 'undefined') {\n",
       "        return MozWebSocket;\n",
       "    } else {\n",
       "        alert('Your browser does not have WebSocket support.' +\n",
       "              'Please try Chrome, Safari or Firefox ≥ 6. ' +\n",
       "              'Firefox 4 and 5 are also supported but you ' +\n",
       "              'have to enable WebSockets in about:config.');\n",
       "    };\n",
       "}\n",
       "\n",
       "mpl.figure = function(figure_id, websocket, ondownload, parent_element) {\n",
       "    this.id = figure_id;\n",
       "\n",
       "    this.ws = websocket;\n",
       "\n",
       "    this.supports_binary = (this.ws.binaryType != undefined);\n",
       "\n",
       "    if (!this.supports_binary) {\n",
       "        var warnings = document.getElementById(\"mpl-warnings\");\n",
       "        if (warnings) {\n",
       "            warnings.style.display = 'block';\n",
       "            warnings.textContent = (\n",
       "                \"This browser does not support binary websocket messages. \" +\n",
       "                    \"Performance may be slow.\");\n",
       "        }\n",
       "    }\n",
       "\n",
       "    this.imageObj = new Image();\n",
       "\n",
       "    this.context = undefined;\n",
       "    this.message = undefined;\n",
       "    this.canvas = undefined;\n",
       "    this.rubberband_canvas = undefined;\n",
       "    this.rubberband_context = undefined;\n",
       "    this.format_dropdown = undefined;\n",
       "\n",
       "    this.image_mode = 'full';\n",
       "\n",
       "    this.root = $('<div/>');\n",
       "    this._root_extra_style(this.root)\n",
       "    this.root.attr('style', 'display: inline-block');\n",
       "\n",
       "    $(parent_element).append(this.root);\n",
       "\n",
       "    this._init_header(this);\n",
       "    this._init_canvas(this);\n",
       "    this._init_toolbar(this);\n",
       "\n",
       "    var fig = this;\n",
       "\n",
       "    this.waiting = false;\n",
       "\n",
       "    this.ws.onopen =  function () {\n",
       "            fig.send_message(\"supports_binary\", {value: fig.supports_binary});\n",
       "            fig.send_message(\"send_image_mode\", {});\n",
       "            if (mpl.ratio != 1) {\n",
       "                fig.send_message(\"set_dpi_ratio\", {'dpi_ratio': mpl.ratio});\n",
       "            }\n",
       "            fig.send_message(\"refresh\", {});\n",
       "        }\n",
       "\n",
       "    this.imageObj.onload = function() {\n",
       "            if (fig.image_mode == 'full') {\n",
       "                // Full images could contain transparency (where diff images\n",
       "                // almost always do), so we need to clear the canvas so that\n",
       "                // there is no ghosting.\n",
       "                fig.context.clearRect(0, 0, fig.canvas.width, fig.canvas.height);\n",
       "            }\n",
       "            fig.context.drawImage(fig.imageObj, 0, 0);\n",
       "        };\n",
       "\n",
       "    this.imageObj.onunload = function() {\n",
       "        fig.ws.close();\n",
       "    }\n",
       "\n",
       "    this.ws.onmessage = this._make_on_message_function(this);\n",
       "\n",
       "    this.ondownload = ondownload;\n",
       "}\n",
       "\n",
       "mpl.figure.prototype._init_header = function() {\n",
       "    var titlebar = $(\n",
       "        '<div class=\"ui-dialog-titlebar ui-widget-header ui-corner-all ' +\n",
       "        'ui-helper-clearfix\"/>');\n",
       "    var titletext = $(\n",
       "        '<div class=\"ui-dialog-title\" style=\"width: 100%; ' +\n",
       "        'text-align: center; padding: 3px;\"/>');\n",
       "    titlebar.append(titletext)\n",
       "    this.root.append(titlebar);\n",
       "    this.header = titletext[0];\n",
       "}\n",
       "\n",
       "\n",
       "\n",
       "mpl.figure.prototype._canvas_extra_style = function(canvas_div) {\n",
       "\n",
       "}\n",
       "\n",
       "\n",
       "mpl.figure.prototype._root_extra_style = function(canvas_div) {\n",
       "\n",
       "}\n",
       "\n",
       "mpl.figure.prototype._init_canvas = function() {\n",
       "    var fig = this;\n",
       "\n",
       "    var canvas_div = $('<div/>');\n",
       "\n",
       "    canvas_div.attr('style', 'position: relative; clear: both; outline: 0');\n",
       "\n",
       "    function canvas_keyboard_event(event) {\n",
       "        return fig.key_event(event, event['data']);\n",
       "    }\n",
       "\n",
       "    canvas_div.keydown('key_press', canvas_keyboard_event);\n",
       "    canvas_div.keyup('key_release', canvas_keyboard_event);\n",
       "    this.canvas_div = canvas_div\n",
       "    this._canvas_extra_style(canvas_div)\n",
       "    this.root.append(canvas_div);\n",
       "\n",
       "    var canvas = $('<canvas/>');\n",
       "    canvas.addClass('mpl-canvas');\n",
       "    canvas.attr('style', \"left: 0; top: 0; z-index: 0; outline: 0\")\n",
       "\n",
       "    this.canvas = canvas[0];\n",
       "    this.context = canvas[0].getContext(\"2d\");\n",
       "\n",
       "    var backingStore = this.context.backingStorePixelRatio ||\n",
       "\tthis.context.webkitBackingStorePixelRatio ||\n",
       "\tthis.context.mozBackingStorePixelRatio ||\n",
       "\tthis.context.msBackingStorePixelRatio ||\n",
       "\tthis.context.oBackingStorePixelRatio ||\n",
       "\tthis.context.backingStorePixelRatio || 1;\n",
       "\n",
       "    mpl.ratio = (window.devicePixelRatio || 1) / backingStore;\n",
       "\n",
       "    var rubberband = $('<canvas/>');\n",
       "    rubberband.attr('style', \"position: absolute; left: 0; top: 0; z-index: 1;\")\n",
       "\n",
       "    var pass_mouse_events = true;\n",
       "\n",
       "    canvas_div.resizable({\n",
       "        start: function(event, ui) {\n",
       "            pass_mouse_events = false;\n",
       "        },\n",
       "        resize: function(event, ui) {\n",
       "            fig.request_resize(ui.size.width, ui.size.height);\n",
       "        },\n",
       "        stop: function(event, ui) {\n",
       "            pass_mouse_events = true;\n",
       "            fig.request_resize(ui.size.width, ui.size.height);\n",
       "        },\n",
       "    });\n",
       "\n",
       "    function mouse_event_fn(event) {\n",
       "        if (pass_mouse_events)\n",
       "            return fig.mouse_event(event, event['data']);\n",
       "    }\n",
       "\n",
       "    rubberband.mousedown('button_press', mouse_event_fn);\n",
       "    rubberband.mouseup('button_release', mouse_event_fn);\n",
       "    // Throttle sequential mouse events to 1 every 20ms.\n",
       "    rubberband.mousemove('motion_notify', mouse_event_fn);\n",
       "\n",
       "    rubberband.mouseenter('figure_enter', mouse_event_fn);\n",
       "    rubberband.mouseleave('figure_leave', mouse_event_fn);\n",
       "\n",
       "    canvas_div.on(\"wheel\", function (event) {\n",
       "        event = event.originalEvent;\n",
       "        event['data'] = 'scroll'\n",
       "        if (event.deltaY < 0) {\n",
       "            event.step = 1;\n",
       "        } else {\n",
       "            event.step = -1;\n",
       "        }\n",
       "        mouse_event_fn(event);\n",
       "    });\n",
       "\n",
       "    canvas_div.append(canvas);\n",
       "    canvas_div.append(rubberband);\n",
       "\n",
       "    this.rubberband = rubberband;\n",
       "    this.rubberband_canvas = rubberband[0];\n",
       "    this.rubberband_context = rubberband[0].getContext(\"2d\");\n",
       "    this.rubberband_context.strokeStyle = \"#000000\";\n",
       "\n",
       "    this._resize_canvas = function(width, height) {\n",
       "        // Keep the size of the canvas, canvas container, and rubber band\n",
       "        // canvas in synch.\n",
       "        canvas_div.css('width', width)\n",
       "        canvas_div.css('height', height)\n",
       "\n",
       "        canvas.attr('width', width * mpl.ratio);\n",
       "        canvas.attr('height', height * mpl.ratio);\n",
       "        canvas.attr('style', 'width: ' + width + 'px; height: ' + height + 'px;');\n",
       "\n",
       "        rubberband.attr('width', width);\n",
       "        rubberband.attr('height', height);\n",
       "    }\n",
       "\n",
       "    // Set the figure to an initial 600x600px, this will subsequently be updated\n",
       "    // upon first draw.\n",
       "    this._resize_canvas(600, 600);\n",
       "\n",
       "    // Disable right mouse context menu.\n",
       "    $(this.rubberband_canvas).bind(\"contextmenu\",function(e){\n",
       "        return false;\n",
       "    });\n",
       "\n",
       "    function set_focus () {\n",
       "        canvas.focus();\n",
       "        canvas_div.focus();\n",
       "    }\n",
       "\n",
       "    window.setTimeout(set_focus, 100);\n",
       "}\n",
       "\n",
       "mpl.figure.prototype._init_toolbar = function() {\n",
       "    var fig = this;\n",
       "\n",
       "    var nav_element = $('<div/>')\n",
       "    nav_element.attr('style', 'width: 100%');\n",
       "    this.root.append(nav_element);\n",
       "\n",
       "    // Define a callback function for later on.\n",
       "    function toolbar_event(event) {\n",
       "        return fig.toolbar_button_onclick(event['data']);\n",
       "    }\n",
       "    function toolbar_mouse_event(event) {\n",
       "        return fig.toolbar_button_onmouseover(event['data']);\n",
       "    }\n",
       "\n",
       "    for(var toolbar_ind in mpl.toolbar_items) {\n",
       "        var name = mpl.toolbar_items[toolbar_ind][0];\n",
       "        var tooltip = mpl.toolbar_items[toolbar_ind][1];\n",
       "        var image = mpl.toolbar_items[toolbar_ind][2];\n",
       "        var method_name = mpl.toolbar_items[toolbar_ind][3];\n",
       "\n",
       "        if (!name) {\n",
       "            // put a spacer in here.\n",
       "            continue;\n",
       "        }\n",
       "        var button = $('<button/>');\n",
       "        button.addClass('ui-button ui-widget ui-state-default ui-corner-all ' +\n",
       "                        'ui-button-icon-only');\n",
       "        button.attr('role', 'button');\n",
       "        button.attr('aria-disabled', 'false');\n",
       "        button.click(method_name, toolbar_event);\n",
       "        button.mouseover(tooltip, toolbar_mouse_event);\n",
       "\n",
       "        var icon_img = $('<span/>');\n",
       "        icon_img.addClass('ui-button-icon-primary ui-icon');\n",
       "        icon_img.addClass(image);\n",
       "        icon_img.addClass('ui-corner-all');\n",
       "\n",
       "        var tooltip_span = $('<span/>');\n",
       "        tooltip_span.addClass('ui-button-text');\n",
       "        tooltip_span.html(tooltip);\n",
       "\n",
       "        button.append(icon_img);\n",
       "        button.append(tooltip_span);\n",
       "\n",
       "        nav_element.append(button);\n",
       "    }\n",
       "\n",
       "    var fmt_picker_span = $('<span/>');\n",
       "\n",
       "    var fmt_picker = $('<select/>');\n",
       "    fmt_picker.addClass('mpl-toolbar-option ui-widget ui-widget-content');\n",
       "    fmt_picker_span.append(fmt_picker);\n",
       "    nav_element.append(fmt_picker_span);\n",
       "    this.format_dropdown = fmt_picker[0];\n",
       "\n",
       "    for (var ind in mpl.extensions) {\n",
       "        var fmt = mpl.extensions[ind];\n",
       "        var option = $(\n",
       "            '<option/>', {selected: fmt === mpl.default_extension}).html(fmt);\n",
       "        fmt_picker.append(option)\n",
       "    }\n",
       "\n",
       "    // Add hover states to the ui-buttons\n",
       "    $( \".ui-button\" ).hover(\n",
       "        function() { $(this).addClass(\"ui-state-hover\");},\n",
       "        function() { $(this).removeClass(\"ui-state-hover\");}\n",
       "    );\n",
       "\n",
       "    var status_bar = $('<span class=\"mpl-message\"/>');\n",
       "    nav_element.append(status_bar);\n",
       "    this.message = status_bar[0];\n",
       "}\n",
       "\n",
       "mpl.figure.prototype.request_resize = function(x_pixels, y_pixels) {\n",
       "    // Request matplotlib to resize the figure. Matplotlib will then trigger a resize in the client,\n",
       "    // which will in turn request a refresh of the image.\n",
       "    this.send_message('resize', {'width': x_pixels, 'height': y_pixels});\n",
       "}\n",
       "\n",
       "mpl.figure.prototype.send_message = function(type, properties) {\n",
       "    properties['type'] = type;\n",
       "    properties['figure_id'] = this.id;\n",
       "    this.ws.send(JSON.stringify(properties));\n",
       "}\n",
       "\n",
       "mpl.figure.prototype.send_draw_message = function() {\n",
       "    if (!this.waiting) {\n",
       "        this.waiting = true;\n",
       "        this.ws.send(JSON.stringify({type: \"draw\", figure_id: this.id}));\n",
       "    }\n",
       "}\n",
       "\n",
       "\n",
       "mpl.figure.prototype.handle_save = function(fig, msg) {\n",
       "    var format_dropdown = fig.format_dropdown;\n",
       "    var format = format_dropdown.options[format_dropdown.selectedIndex].value;\n",
       "    fig.ondownload(fig, format);\n",
       "}\n",
       "\n",
       "\n",
       "mpl.figure.prototype.handle_resize = function(fig, msg) {\n",
       "    var size = msg['size'];\n",
       "    if (size[0] != fig.canvas.width || size[1] != fig.canvas.height) {\n",
       "        fig._resize_canvas(size[0], size[1]);\n",
       "        fig.send_message(\"refresh\", {});\n",
       "    };\n",
       "}\n",
       "\n",
       "mpl.figure.prototype.handle_rubberband = function(fig, msg) {\n",
       "    var x0 = msg['x0'] / mpl.ratio;\n",
       "    var y0 = (fig.canvas.height - msg['y0']) / mpl.ratio;\n",
       "    var x1 = msg['x1'] / mpl.ratio;\n",
       "    var y1 = (fig.canvas.height - msg['y1']) / mpl.ratio;\n",
       "    x0 = Math.floor(x0) + 0.5;\n",
       "    y0 = Math.floor(y0) + 0.5;\n",
       "    x1 = Math.floor(x1) + 0.5;\n",
       "    y1 = Math.floor(y1) + 0.5;\n",
       "    var min_x = Math.min(x0, x1);\n",
       "    var min_y = Math.min(y0, y1);\n",
       "    var width = Math.abs(x1 - x0);\n",
       "    var height = Math.abs(y1 - y0);\n",
       "\n",
       "    fig.rubberband_context.clearRect(\n",
       "        0, 0, fig.canvas.width, fig.canvas.height);\n",
       "\n",
       "    fig.rubberband_context.strokeRect(min_x, min_y, width, height);\n",
       "}\n",
       "\n",
       "mpl.figure.prototype.handle_figure_label = function(fig, msg) {\n",
       "    // Updates the figure title.\n",
       "    fig.header.textContent = msg['label'];\n",
       "}\n",
       "\n",
       "mpl.figure.prototype.handle_cursor = function(fig, msg) {\n",
       "    var cursor = msg['cursor'];\n",
       "    switch(cursor)\n",
       "    {\n",
       "    case 0:\n",
       "        cursor = 'pointer';\n",
       "        break;\n",
       "    case 1:\n",
       "        cursor = 'default';\n",
       "        break;\n",
       "    case 2:\n",
       "        cursor = 'crosshair';\n",
       "        break;\n",
       "    case 3:\n",
       "        cursor = 'move';\n",
       "        break;\n",
       "    }\n",
       "    fig.rubberband_canvas.style.cursor = cursor;\n",
       "}\n",
       "\n",
       "mpl.figure.prototype.handle_message = function(fig, msg) {\n",
       "    fig.message.textContent = msg['message'];\n",
       "}\n",
       "\n",
       "mpl.figure.prototype.handle_draw = function(fig, msg) {\n",
       "    // Request the server to send over a new figure.\n",
       "    fig.send_draw_message();\n",
       "}\n",
       "\n",
       "mpl.figure.prototype.handle_image_mode = function(fig, msg) {\n",
       "    fig.image_mode = msg['mode'];\n",
       "}\n",
       "\n",
       "mpl.figure.prototype.updated_canvas_event = function() {\n",
       "    // Called whenever the canvas gets updated.\n",
       "    this.send_message(\"ack\", {});\n",
       "}\n",
       "\n",
       "// A function to construct a web socket function for onmessage handling.\n",
       "// Called in the figure constructor.\n",
       "mpl.figure.prototype._make_on_message_function = function(fig) {\n",
       "    return function socket_on_message(evt) {\n",
       "        if (evt.data instanceof Blob) {\n",
       "            /* FIXME: We get \"Resource interpreted as Image but\n",
       "             * transferred with MIME type text/plain:\" errors on\n",
       "             * Chrome.  But how to set the MIME type?  It doesn't seem\n",
       "             * to be part of the websocket stream */\n",
       "            evt.data.type = \"image/png\";\n",
       "\n",
       "            /* Free the memory for the previous frames */\n",
       "            if (fig.imageObj.src) {\n",
       "                (window.URL || window.webkitURL).revokeObjectURL(\n",
       "                    fig.imageObj.src);\n",
       "            }\n",
       "\n",
       "            fig.imageObj.src = (window.URL || window.webkitURL).createObjectURL(\n",
       "                evt.data);\n",
       "            fig.updated_canvas_event();\n",
       "            fig.waiting = false;\n",
       "            return;\n",
       "        }\n",
       "        else if (typeof evt.data === 'string' && evt.data.slice(0, 21) == \"data:image/png;base64\") {\n",
       "            fig.imageObj.src = evt.data;\n",
       "            fig.updated_canvas_event();\n",
       "            fig.waiting = false;\n",
       "            return;\n",
       "        }\n",
       "\n",
       "        var msg = JSON.parse(evt.data);\n",
       "        var msg_type = msg['type'];\n",
       "\n",
       "        // Call the  \"handle_{type}\" callback, which takes\n",
       "        // the figure and JSON message as its only arguments.\n",
       "        try {\n",
       "            var callback = fig[\"handle_\" + msg_type];\n",
       "        } catch (e) {\n",
       "            console.log(\"No handler for the '\" + msg_type + \"' message type: \", msg);\n",
       "            return;\n",
       "        }\n",
       "\n",
       "        if (callback) {\n",
       "            try {\n",
       "                // console.log(\"Handling '\" + msg_type + \"' message: \", msg);\n",
       "                callback(fig, msg);\n",
       "            } catch (e) {\n",
       "                console.log(\"Exception inside the 'handler_\" + msg_type + \"' callback:\", e, e.stack, msg);\n",
       "            }\n",
       "        }\n",
       "    };\n",
       "}\n",
       "\n",
       "// from http://stackoverflow.com/questions/1114465/getting-mouse-location-in-canvas\n",
       "mpl.findpos = function(e) {\n",
       "    //this section is from http://www.quirksmode.org/js/events_properties.html\n",
       "    var targ;\n",
       "    if (!e)\n",
       "        e = window.event;\n",
       "    if (e.target)\n",
       "        targ = e.target;\n",
       "    else if (e.srcElement)\n",
       "        targ = e.srcElement;\n",
       "    if (targ.nodeType == 3) // defeat Safari bug\n",
       "        targ = targ.parentNode;\n",
       "\n",
       "    // jQuery normalizes the pageX and pageY\n",
       "    // pageX,Y are the mouse positions relative to the document\n",
       "    // offset() returns the position of the element relative to the document\n",
       "    var x = e.pageX - $(targ).offset().left;\n",
       "    var y = e.pageY - $(targ).offset().top;\n",
       "\n",
       "    return {\"x\": x, \"y\": y};\n",
       "};\n",
       "\n",
       "/*\n",
       " * return a copy of an object with only non-object keys\n",
       " * we need this to avoid circular references\n",
       " * http://stackoverflow.com/a/24161582/3208463\n",
       " */\n",
       "function simpleKeys (original) {\n",
       "  return Object.keys(original).reduce(function (obj, key) {\n",
       "    if (typeof original[key] !== 'object')\n",
       "        obj[key] = original[key]\n",
       "    return obj;\n",
       "  }, {});\n",
       "}\n",
       "\n",
       "mpl.figure.prototype.mouse_event = function(event, name) {\n",
       "    var canvas_pos = mpl.findpos(event)\n",
       "\n",
       "    if (name === 'button_press')\n",
       "    {\n",
       "        this.canvas.focus();\n",
       "        this.canvas_div.focus();\n",
       "    }\n",
       "\n",
       "    var x = canvas_pos.x * mpl.ratio;\n",
       "    var y = canvas_pos.y * mpl.ratio;\n",
       "\n",
       "    this.send_message(name, {x: x, y: y, button: event.button,\n",
       "                             step: event.step,\n",
       "                             guiEvent: simpleKeys(event)});\n",
       "\n",
       "    /* This prevents the web browser from automatically changing to\n",
       "     * the text insertion cursor when the button is pressed.  We want\n",
       "     * to control all of the cursor setting manually through the\n",
       "     * 'cursor' event from matplotlib */\n",
       "    event.preventDefault();\n",
       "    return false;\n",
       "}\n",
       "\n",
       "mpl.figure.prototype._key_event_extra = function(event, name) {\n",
       "    // Handle any extra behaviour associated with a key event\n",
       "}\n",
       "\n",
       "mpl.figure.prototype.key_event = function(event, name) {\n",
       "\n",
       "    // Prevent repeat events\n",
       "    if (name == 'key_press')\n",
       "    {\n",
       "        if (event.which === this._key)\n",
       "            return;\n",
       "        else\n",
       "            this._key = event.which;\n",
       "    }\n",
       "    if (name == 'key_release')\n",
       "        this._key = null;\n",
       "\n",
       "    var value = '';\n",
       "    if (event.ctrlKey && event.which != 17)\n",
       "        value += \"ctrl+\";\n",
       "    if (event.altKey && event.which != 18)\n",
       "        value += \"alt+\";\n",
       "    if (event.shiftKey && event.which != 16)\n",
       "        value += \"shift+\";\n",
       "\n",
       "    value += 'k';\n",
       "    value += event.which.toString();\n",
       "\n",
       "    this._key_event_extra(event, name);\n",
       "\n",
       "    this.send_message(name, {key: value,\n",
       "                             guiEvent: simpleKeys(event)});\n",
       "    return false;\n",
       "}\n",
       "\n",
       "mpl.figure.prototype.toolbar_button_onclick = function(name) {\n",
       "    if (name == 'download') {\n",
       "        this.handle_save(this, null);\n",
       "    } else {\n",
       "        this.send_message(\"toolbar_button\", {name: name});\n",
       "    }\n",
       "};\n",
       "\n",
       "mpl.figure.prototype.toolbar_button_onmouseover = function(tooltip) {\n",
       "    this.message.textContent = tooltip;\n",
       "};\n",
       "mpl.toolbar_items = [[\"Home\", \"Reset original view\", \"fa fa-home icon-home\", \"home\"], [\"Back\", \"Back to  previous view\", \"fa fa-arrow-left icon-arrow-left\", \"back\"], [\"Forward\", \"Forward to next view\", \"fa fa-arrow-right icon-arrow-right\", \"forward\"], [\"\", \"\", \"\", \"\"], [\"Pan\", \"Pan axes with left mouse, zoom with right\", \"fa fa-arrows icon-move\", \"pan\"], [\"Zoom\", \"Zoom to rectangle\", \"fa fa-square-o icon-check-empty\", \"zoom\"], [\"\", \"\", \"\", \"\"], [\"Download\", \"Download plot\", \"fa fa-floppy-o icon-save\", \"download\"]];\n",
       "\n",
       "mpl.extensions = [\"eps\", \"jpeg\", \"pdf\", \"png\", \"ps\", \"raw\", \"svg\", \"tif\"];\n",
       "\n",
       "mpl.default_extension = \"png\";var comm_websocket_adapter = function(comm) {\n",
       "    // Create a \"websocket\"-like object which calls the given IPython comm\n",
       "    // object with the appropriate methods. Currently this is a non binary\n",
       "    // socket, so there is still some room for performance tuning.\n",
       "    var ws = {};\n",
       "\n",
       "    ws.close = function() {\n",
       "        comm.close()\n",
       "    };\n",
       "    ws.send = function(m) {\n",
       "        //console.log('sending', m);\n",
       "        comm.send(m);\n",
       "    };\n",
       "    // Register the callback with on_msg.\n",
       "    comm.on_msg(function(msg) {\n",
       "        //console.log('receiving', msg['content']['data'], msg);\n",
       "        // Pass the mpl event to the overriden (by mpl) onmessage function.\n",
       "        ws.onmessage(msg['content']['data'])\n",
       "    });\n",
       "    return ws;\n",
       "}\n",
       "\n",
       "mpl.mpl_figure_comm = function(comm, msg) {\n",
       "    // This is the function which gets called when the mpl process\n",
       "    // starts-up an IPython Comm through the \"matplotlib\" channel.\n",
       "\n",
       "    var id = msg.content.data.id;\n",
       "    // Get hold of the div created by the display call when the Comm\n",
       "    // socket was opened in Python.\n",
       "    var element = $(\"#\" + id);\n",
       "    var ws_proxy = comm_websocket_adapter(comm)\n",
       "\n",
       "    function ondownload(figure, format) {\n",
       "        window.open(figure.imageObj.src);\n",
       "    }\n",
       "\n",
       "    var fig = new mpl.figure(id, ws_proxy,\n",
       "                           ondownload,\n",
       "                           element.get(0));\n",
       "\n",
       "    // Call onopen now - mpl needs it, as it is assuming we've passed it a real\n",
       "    // web socket which is closed, not our websocket->open comm proxy.\n",
       "    ws_proxy.onopen();\n",
       "\n",
       "    fig.parent_element = element.get(0);\n",
       "    fig.cell_info = mpl.find_output_cell(\"<div id='\" + id + \"'></div>\");\n",
       "    if (!fig.cell_info) {\n",
       "        console.error(\"Failed to find cell for figure\", id, fig);\n",
       "        return;\n",
       "    }\n",
       "\n",
       "    var output_index = fig.cell_info[2]\n",
       "    var cell = fig.cell_info[0];\n",
       "\n",
       "};\n",
       "\n",
       "mpl.figure.prototype.handle_close = function(fig, msg) {\n",
       "    var width = fig.canvas.width/mpl.ratio\n",
       "    fig.root.unbind('remove')\n",
       "\n",
       "    // Update the output cell to use the data from the current canvas.\n",
       "    fig.push_to_output();\n",
       "    var dataURL = fig.canvas.toDataURL();\n",
       "    // Re-enable the keyboard manager in IPython - without this line, in FF,\n",
       "    // the notebook keyboard shortcuts fail.\n",
       "    IPython.keyboard_manager.enable()\n",
       "    $(fig.parent_element).html('<img src=\"' + dataURL + '\" width=\"' + width + '\">');\n",
       "    fig.close_ws(fig, msg);\n",
       "}\n",
       "\n",
       "mpl.figure.prototype.close_ws = function(fig, msg){\n",
       "    fig.send_message('closing', msg);\n",
       "    // fig.ws.close()\n",
       "}\n",
       "\n",
       "mpl.figure.prototype.push_to_output = function(remove_interactive) {\n",
       "    // Turn the data on the canvas into data in the output cell.\n",
       "    var width = this.canvas.width/mpl.ratio\n",
       "    var dataURL = this.canvas.toDataURL();\n",
       "    this.cell_info[1]['text/html'] = '<img src=\"' + dataURL + '\" width=\"' + width + '\">';\n",
       "}\n",
       "\n",
       "mpl.figure.prototype.updated_canvas_event = function() {\n",
       "    // Tell IPython that the notebook contents must change.\n",
       "    IPython.notebook.set_dirty(true);\n",
       "    this.send_message(\"ack\", {});\n",
       "    var fig = this;\n",
       "    // Wait a second, then push the new image to the DOM so\n",
       "    // that it is saved nicely (might be nice to debounce this).\n",
       "    setTimeout(function () { fig.push_to_output() }, 1000);\n",
       "}\n",
       "\n",
       "mpl.figure.prototype._init_toolbar = function() {\n",
       "    var fig = this;\n",
       "\n",
       "    var nav_element = $('<div/>')\n",
       "    nav_element.attr('style', 'width: 100%');\n",
       "    this.root.append(nav_element);\n",
       "\n",
       "    // Define a callback function for later on.\n",
       "    function toolbar_event(event) {\n",
       "        return fig.toolbar_button_onclick(event['data']);\n",
       "    }\n",
       "    function toolbar_mouse_event(event) {\n",
       "        return fig.toolbar_button_onmouseover(event['data']);\n",
       "    }\n",
       "\n",
       "    for(var toolbar_ind in mpl.toolbar_items){\n",
       "        var name = mpl.toolbar_items[toolbar_ind][0];\n",
       "        var tooltip = mpl.toolbar_items[toolbar_ind][1];\n",
       "        var image = mpl.toolbar_items[toolbar_ind][2];\n",
       "        var method_name = mpl.toolbar_items[toolbar_ind][3];\n",
       "\n",
       "        if (!name) { continue; };\n",
       "\n",
       "        var button = $('<button class=\"btn btn-default\" href=\"#\" title=\"' + name + '\"><i class=\"fa ' + image + ' fa-lg\"></i></button>');\n",
       "        button.click(method_name, toolbar_event);\n",
       "        button.mouseover(tooltip, toolbar_mouse_event);\n",
       "        nav_element.append(button);\n",
       "    }\n",
       "\n",
       "    // Add the status bar.\n",
       "    var status_bar = $('<span class=\"mpl-message\" style=\"text-align:right; float: right;\"/>');\n",
       "    nav_element.append(status_bar);\n",
       "    this.message = status_bar[0];\n",
       "\n",
       "    // Add the close button to the window.\n",
       "    var buttongrp = $('<div class=\"btn-group inline pull-right\"></div>');\n",
       "    var button = $('<button class=\"btn btn-mini btn-primary\" href=\"#\" title=\"Stop Interaction\"><i class=\"fa fa-power-off icon-remove icon-large\"></i></button>');\n",
       "    button.click(function (evt) { fig.handle_close(fig, {}); } );\n",
       "    button.mouseover('Stop Interaction', toolbar_mouse_event);\n",
       "    buttongrp.append(button);\n",
       "    var titlebar = this.root.find($('.ui-dialog-titlebar'));\n",
       "    titlebar.prepend(buttongrp);\n",
       "}\n",
       "\n",
       "mpl.figure.prototype._root_extra_style = function(el){\n",
       "    var fig = this\n",
       "    el.on(\"remove\", function(){\n",
       "\tfig.close_ws(fig, {});\n",
       "    });\n",
       "}\n",
       "\n",
       "mpl.figure.prototype._canvas_extra_style = function(el){\n",
       "    // this is important to make the div 'focusable\n",
       "    el.attr('tabindex', 0)\n",
       "    // reach out to IPython and tell the keyboard manager to turn it's self\n",
       "    // off when our div gets focus\n",
       "\n",
       "    // location in version 3\n",
       "    if (IPython.notebook.keyboard_manager) {\n",
       "        IPython.notebook.keyboard_manager.register_events(el);\n",
       "    }\n",
       "    else {\n",
       "        // location in version 2\n",
       "        IPython.keyboard_manager.register_events(el);\n",
       "    }\n",
       "\n",
       "}\n",
       "\n",
       "mpl.figure.prototype._key_event_extra = function(event, name) {\n",
       "    var manager = IPython.notebook.keyboard_manager;\n",
       "    if (!manager)\n",
       "        manager = IPython.keyboard_manager;\n",
       "\n",
       "    // Check for shift+enter\n",
       "    if (event.shiftKey && event.which == 13) {\n",
       "        this.canvas_div.blur();\n",
       "        event.shiftKey = false;\n",
       "        // Send a \"J\" for go to next cell\n",
       "        event.which = 74;\n",
       "        event.keyCode = 74;\n",
       "        manager.command_mode();\n",
       "        manager.handle_keydown(event);\n",
       "    }\n",
       "}\n",
       "\n",
       "mpl.figure.prototype.handle_save = function(fig, msg) {\n",
       "    fig.ondownload(fig, null);\n",
       "}\n",
       "\n",
       "\n",
       "mpl.find_output_cell = function(html_output) {\n",
       "    // Return the cell and output element which can be found *uniquely* in the notebook.\n",
       "    // Note - this is a bit hacky, but it is done because the \"notebook_saving.Notebook\"\n",
       "    // IPython event is triggered only after the cells have been serialised, which for\n",
       "    // our purposes (turning an active figure into a static one), is too late.\n",
       "    var cells = IPython.notebook.get_cells();\n",
       "    var ncells = cells.length;\n",
       "    for (var i=0; i<ncells; i++) {\n",
       "        var cell = cells[i];\n",
       "        if (cell.cell_type === 'code'){\n",
       "            for (var j=0; j<cell.output_area.outputs.length; j++) {\n",
       "                var data = cell.output_area.outputs[j];\n",
       "                if (data.data) {\n",
       "                    // IPython >= 3 moved mimebundle to data attribute of output\n",
       "                    data = data.data;\n",
       "                }\n",
       "                if (data['text/html'] == html_output) {\n",
       "                    return [cell, data, j];\n",
       "                }\n",
       "            }\n",
       "        }\n",
       "    }\n",
       "}\n",
       "\n",
       "// Register the function which deals with the matplotlib target/channel.\n",
       "// The kernel may be null if the page has been refreshed.\n",
       "if (IPython.notebook.kernel != null) {\n",
       "    IPython.notebook.kernel.comm_manager.register_target('matplotlib', mpl.mpl_figure_comm);\n",
       "}\n"
      ],
      "text/plain": [
       "<IPython.core.display.Javascript object>"
      ]
     },
     "metadata": {},
     "output_type": "display_data"
    },
    {
     "data": {
      "text/html": [
       "<img src=\"data:image/png;base64,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\" width=\"800\">"
      ],
      "text/plain": [
       "<IPython.core.display.HTML object>"
      ]
     },
     "metadata": {},
     "output_type": "display_data"
    }
   ],
   "source": [
    "_ = sns.factorplot(x='Sex',col='Survived',data=titanic,kind='count')\n"
   ]
  },
  {
   "cell_type": "code",
   "execution_count": 41,
   "metadata": {
    "collapsed": true
   },
   "outputs": [],
   "source": [
    "# feature engineering\n",
    "\n",
    "titanic['FamilySize']=titanic.Parch+titanic.SibSp+1"
   ]
  },
  {
   "cell_type": "code",
   "execution_count": 42,
   "metadata": {},
   "outputs": [
    {
     "data": {
      "text/plain": [
       "U    0.774637\n",
       "C    0.071811\n",
       "B    0.049656\n",
       "D    0.035141\n",
       "E    0.031322\n",
       "A    0.016807\n",
       "F    0.016043\n",
       "G    0.003820\n",
       "T    0.000764\n",
       "Name: Cabin, dtype: float64"
      ]
     },
     "execution_count": 42,
     "metadata": {},
     "output_type": "execute_result"
    }
   ],
   "source": [
    "#cabin\n",
    "\n",
    "titanic.Cabin=titanic.Cabin.map(lambda x:x[0])\n",
    "titanic.Cabin.value_counts(normalize=True)"
   ]
  },
  {
   "cell_type": "code",
   "execution_count": 43,
   "metadata": {
    "collapsed": true
   },
   "outputs": [],
   "source": [
    "#modelling"
   ]
  },
  {
   "cell_type": "code",
   "execution_count": 44,
   "metadata": {
    "collapsed": true
   },
   "outputs": [],
   "source": [
    "titanic.Sex=titanic.Sex.map({'male':0,'female':1})\n"
   ]
  },
  {
   "cell_type": "code",
   "execution_count": 45,
   "metadata": {
    "collapsed": true
   },
   "outputs": [],
   "source": [
    "pclass_dummies = pd.get_dummies(titanic.Pclass, prefix=\"Pclass\")\n",
    "title_dummies = pd.get_dummies(titanic.Title, prefix=\"Title\")\n",
    "cabin_dummies = pd.get_dummies(titanic.Cabin, prefix=\"Cabin\")\n",
    "embarked_dummies = pd.get_dummies(titanic.Embarked, prefix=\"Embarked\")"
   ]
  },
  {
   "cell_type": "code",
   "execution_count": 46,
   "metadata": {
    "collapsed": true
   },
   "outputs": [],
   "source": [
    "#concatenating dummies\n",
    "\n",
    "titanic_dummies = pd.concat([titanic,pclass_dummies,title_dummies,cabin_dummies,embarked_dummies],axis=1)\n",
    "\n",
    "#dropping some fields\n",
    "titanic_dummies.drop(['Pclass','Title','Cabin','Embarked','Name','Ticket'],axis=1,inplace=True)\n"
   ]
  },
  {
   "cell_type": "code",
   "execution_count": 47,
   "metadata": {},
   "outputs": [
    {
     "data": {
      "text/html": [
       "<div>\n",
       "<style>\n",
       "    .dataframe thead tr:only-child th {\n",
       "        text-align: right;\n",
       "    }\n",
       "\n",
       "    .dataframe thead th {\n",
       "        text-align: left;\n",
       "    }\n",
       "\n",
       "    .dataframe tbody tr th {\n",
       "        vertical-align: top;\n",
       "    }\n",
       "</style>\n",
       "<table border=\"1\" class=\"dataframe\">\n",
       "  <thead>\n",
       "    <tr style=\"text-align: right;\">\n",
       "      <th></th>\n",
       "      <th>Age</th>\n",
       "      <th>Fare</th>\n",
       "      <th>Parch</th>\n",
       "      <th>Sex</th>\n",
       "      <th>SibSp</th>\n",
       "      <th>Survived</th>\n",
       "      <th>FamilySize</th>\n",
       "      <th>Pclass_1</th>\n",
       "      <th>Pclass_2</th>\n",
       "      <th>Pclass_3</th>\n",
       "      <th>...</th>\n",
       "      <th>Cabin_C</th>\n",
       "      <th>Cabin_D</th>\n",
       "      <th>Cabin_E</th>\n",
       "      <th>Cabin_F</th>\n",
       "      <th>Cabin_G</th>\n",
       "      <th>Cabin_T</th>\n",
       "      <th>Cabin_U</th>\n",
       "      <th>Embarked_C</th>\n",
       "      <th>Embarked_Q</th>\n",
       "      <th>Embarked_S</th>\n",
       "    </tr>\n",
       "  </thead>\n",
       "  <tbody>\n",
       "    <tr>\n",
       "      <th>0</th>\n",
       "      <td>22.0</td>\n",
       "      <td>7.2500</td>\n",
       "      <td>0</td>\n",
       "      <td>0</td>\n",
       "      <td>1</td>\n",
       "      <td>0.0</td>\n",
       "      <td>2</td>\n",
       "      <td>0</td>\n",
       "      <td>0</td>\n",
       "      <td>1</td>\n",
       "      <td>...</td>\n",
       "      <td>0</td>\n",
       "      <td>0</td>\n",
       "      <td>0</td>\n",
       "      <td>0</td>\n",
       "      <td>0</td>\n",
       "      <td>0</td>\n",
       "      <td>1</td>\n",
       "      <td>0</td>\n",
       "      <td>0</td>\n",
       "      <td>1</td>\n",
       "    </tr>\n",
       "    <tr>\n",
       "      <th>1</th>\n",
       "      <td>38.0</td>\n",
       "      <td>71.2833</td>\n",
       "      <td>0</td>\n",
       "      <td>1</td>\n",
       "      <td>1</td>\n",
       "      <td>1.0</td>\n",
       "      <td>2</td>\n",
       "      <td>1</td>\n",
       "      <td>0</td>\n",
       "      <td>0</td>\n",
       "      <td>...</td>\n",
       "      <td>1</td>\n",
       "      <td>0</td>\n",
       "      <td>0</td>\n",
       "      <td>0</td>\n",
       "      <td>0</td>\n",
       "      <td>0</td>\n",
       "      <td>0</td>\n",
       "      <td>1</td>\n",
       "      <td>0</td>\n",
       "      <td>0</td>\n",
       "    </tr>\n",
       "    <tr>\n",
       "      <th>2</th>\n",
       "      <td>26.0</td>\n",
       "      <td>7.9250</td>\n",
       "      <td>0</td>\n",
       "      <td>1</td>\n",
       "      <td>0</td>\n",
       "      <td>1.0</td>\n",
       "      <td>1</td>\n",
       "      <td>0</td>\n",
       "      <td>0</td>\n",
       "      <td>1</td>\n",
       "      <td>...</td>\n",
       "      <td>0</td>\n",
       "      <td>0</td>\n",
       "      <td>0</td>\n",
       "      <td>0</td>\n",
       "      <td>0</td>\n",
       "      <td>0</td>\n",
       "      <td>1</td>\n",
       "      <td>0</td>\n",
       "      <td>0</td>\n",
       "      <td>1</td>\n",
       "    </tr>\n",
       "    <tr>\n",
       "      <th>3</th>\n",
       "      <td>35.0</td>\n",
       "      <td>53.1000</td>\n",
       "      <td>0</td>\n",
       "      <td>1</td>\n",
       "      <td>1</td>\n",
       "      <td>1.0</td>\n",
       "      <td>2</td>\n",
       "      <td>1</td>\n",
       "      <td>0</td>\n",
       "      <td>0</td>\n",
       "      <td>...</td>\n",
       "      <td>1</td>\n",
       "      <td>0</td>\n",
       "      <td>0</td>\n",
       "      <td>0</td>\n",
       "      <td>0</td>\n",
       "      <td>0</td>\n",
       "      <td>0</td>\n",
       "      <td>0</td>\n",
       "      <td>0</td>\n",
       "      <td>1</td>\n",
       "    </tr>\n",
       "    <tr>\n",
       "      <th>4</th>\n",
       "      <td>35.0</td>\n",
       "      <td>8.0500</td>\n",
       "      <td>0</td>\n",
       "      <td>0</td>\n",
       "      <td>0</td>\n",
       "      <td>0.0</td>\n",
       "      <td>1</td>\n",
       "      <td>0</td>\n",
       "      <td>0</td>\n",
       "      <td>1</td>\n",
       "      <td>...</td>\n",
       "      <td>0</td>\n",
       "      <td>0</td>\n",
       "      <td>0</td>\n",
       "      <td>0</td>\n",
       "      <td>0</td>\n",
       "      <td>0</td>\n",
       "      <td>1</td>\n",
       "      <td>0</td>\n",
       "      <td>0</td>\n",
       "      <td>1</td>\n",
       "    </tr>\n",
       "  </tbody>\n",
       "</table>\n",
       "<p>5 rows × 28 columns</p>\n",
       "</div>"
      ],
      "text/plain": [
       "    Age     Fare  Parch  Sex  SibSp  Survived  FamilySize  Pclass_1  Pclass_2  \\\n",
       "0  22.0   7.2500      0    0      1       0.0           2         0         0   \n",
       "1  38.0  71.2833      0    1      1       1.0           2         1         0   \n",
       "2  26.0   7.9250      0    1      0       1.0           1         0         0   \n",
       "3  35.0  53.1000      0    1      1       1.0           2         1         0   \n",
       "4  35.0   8.0500      0    0      0       0.0           1         0         0   \n",
       "\n",
       "   Pclass_3     ...      Cabin_C  Cabin_D  Cabin_E  Cabin_F  Cabin_G  Cabin_T  \\\n",
       "0         1     ...            0        0        0        0        0        0   \n",
       "1         0     ...            1        0        0        0        0        0   \n",
       "2         1     ...            0        0        0        0        0        0   \n",
       "3         0     ...            1        0        0        0        0        0   \n",
       "4         1     ...            0        0        0        0        0        0   \n",
       "\n",
       "   Cabin_U  Embarked_C  Embarked_Q  Embarked_S  \n",
       "0        1           0           0           1  \n",
       "1        0           1           0           0  \n",
       "2        1           0           0           1  \n",
       "3        0           0           0           1  \n",
       "4        1           0           0           1  \n",
       "\n",
       "[5 rows x 28 columns]"
      ]
     },
     "execution_count": 47,
     "metadata": {},
     "output_type": "execute_result"
    }
   ],
   "source": [
    "titanic_dummies.head()"
   ]
  },
  {
   "cell_type": "code",
   "execution_count": 48,
   "metadata": {
    "collapsed": true
   },
   "outputs": [],
   "source": [
    "#splitting the dataSet to train and test\n",
    "\n",
    "train=titanic_dummies[:train_idx]\n",
    "test=titanic_dummies[test_idx:]\n"
   ]
  },
  {
   "cell_type": "code",
   "execution_count": 49,
   "metadata": {},
   "outputs": [
    {
     "name": "stderr",
     "output_type": "stream",
     "text": [
      "/home/qwerty/anaconda3/lib/python3.6/site-packages/pandas/core/generic.py:3110: SettingWithCopyWarning: \n",
      "A value is trying to be set on a copy of a slice from a DataFrame.\n",
      "Try using .loc[row_indexer,col_indexer] = value instead\n",
      "\n",
      "See the caveats in the documentation: http://pandas.pydata.org/pandas-docs/stable/indexing.html#indexing-view-versus-copy\n",
      "  self[name] = value\n"
     ]
    }
   ],
   "source": [
    "# convert Survived back to int\n",
    "train.Survived = train.Survived.astype(int)\n",
    "\n",
    "# create X and y for data and target values \n",
    "X = train.drop('Survived', axis=1).values \n",
    "y = train.Survived.values\n",
    "\n",
    "# create array for test set\n",
    "X_test = test.drop('Survived', axis=1).values"
   ]
  },
  {
   "cell_type": "code",
   "execution_count": 50,
   "metadata": {
    "collapsed": true
   },
   "outputs": [],
   "source": [
    "log_params=dict(C=np.logspace(-5,8,15),penalty=['l1','l2'])"
   ]
  },
  {
   "cell_type": "code",
   "execution_count": 51,
   "metadata": {
    "collapsed": true
   },
   "outputs": [],
   "source": [
    "# create param grid object \n",
    "forrest_params = dict(     \n",
    "    max_depth = [n for n in range(9, 14)],     \n",
    "    min_samples_split = [n for n in range(4, 11)], \n",
    "    min_samples_leaf = [n for n in range(2, 5)],     \n",
    "    n_estimators = [n for n in range(10, 60, 10)],\n",
    ")"
   ]
  },
  {
   "cell_type": "code",
   "execution_count": 112,
   "metadata": {
    "collapsed": true
   },
   "outputs": [],
   "source": [
    "forrest = RandomForestClassifier()"
   ]
  },
  {
   "cell_type": "code",
   "execution_count": 113,
   "metadata": {},
   "outputs": [
    {
     "data": {
      "text/plain": [
       "GridSearchCV(cv=5, error_score='raise',\n",
       "       estimator=RandomForestClassifier(bootstrap=True, class_weight=None, criterion='gini',\n",
       "            max_depth=None, max_features='auto', max_leaf_nodes=None,\n",
       "            min_impurity_decrease=0.0, min_impurity_split=None,\n",
       "            min_samples_leaf=1, min_samples_split=2,\n",
       "            min_weight_fraction_leaf=0.0, n_estimators=10, n_jobs=1,\n",
       "            oob_score=False, random_state=None, verbose=0,\n",
       "            warm_start=False),\n",
       "       fit_params=None, iid=True, n_jobs=1,\n",
       "       param_grid={'max_depth': [9, 10, 11, 12, 13], 'min_samples_split': [4, 5, 6, 7, 8, 9, 10], 'min_samples_leaf': [2, 3, 4], 'n_estimators': [10, 20, 30, 40, 50]},\n",
       "       pre_dispatch='2*n_jobs', refit=True, return_train_score='warn',\n",
       "       scoring=None, verbose=0)"
      ]
     },
     "execution_count": 113,
     "metadata": {},
     "output_type": "execute_result"
    }
   ],
   "source": [
    "# build and fit model \n",
    "forest_cv = GridSearchCV(estimator=forrest,     param_grid=forrest_params, cv=5) \n",
    "\n",
    "forest_cv.fit(X, y)\n"
   ]
  },
  {
   "cell_type": "code",
   "execution_count": 114,
   "metadata": {},
   "outputs": [
    {
     "name": "stdout",
     "output_type": "stream",
     "text": [
      "Best score: 0.8417508417508418\n",
      "Optimal params: RandomForestClassifier(bootstrap=True, class_weight=None, criterion='gini',\n",
      "            max_depth=10, max_features='auto', max_leaf_nodes=None,\n",
      "            min_impurity_decrease=0.0, min_impurity_split=None,\n",
      "            min_samples_leaf=3, min_samples_split=7,\n",
      "            min_weight_fraction_leaf=0.0, n_estimators=10, n_jobs=1,\n",
      "            oob_score=False, random_state=None, verbose=0,\n",
      "            warm_start=False)\n"
     ]
    }
   ],
   "source": [
    "print(\"Best score: {}\".format(forest_cv.best_score_))\n",
    "print(\"Optimal params: {}\".format(forest_cv.best_estimator_))"
   ]
  },
  {
   "cell_type": "code",
   "execution_count": 115,
   "metadata": {
    "collapsed": true
   },
   "outputs": [],
   "source": [
    "# random forrest prediction on test set\n",
    "forrest_pred = forest_cv.predict(X_test)"
   ]
  },
  {
   "cell_type": "code",
   "execution_count": 117,
   "metadata": {
    "collapsed": true
   },
   "outputs": [],
   "source": [
    "# dataframe with predictions\n",
    "kaggle = pd.DataFrame({'PassengerId': passengerId, 'Survived': forrest_pred})\n",
    "\n",
    "# save to csv\n",
    "kaggle.to_csv('titanic_pred.csv', index=False)"
   ]
  },
  {
   "cell_type": "code",
   "execution_count": null,
   "metadata": {
    "collapsed": true
   },
   "outputs": [],
   "source": []
  }
 ],
 "metadata": {
  "kernelspec": {
   "display_name": "Python 3",
   "language": "python",
   "name": "python3"
  },
  "language_info": {
   "codemirror_mode": {
    "name": "ipython",
    "version": 3
   },
   "file_extension": ".py",
   "mimetype": "text/x-python",
   "name": "python",
   "nbconvert_exporter": "python",
   "pygments_lexer": "ipython3",
   "version": "3.6.3"
  }
 },
 "nbformat": 4,
 "nbformat_minor": 2
}
